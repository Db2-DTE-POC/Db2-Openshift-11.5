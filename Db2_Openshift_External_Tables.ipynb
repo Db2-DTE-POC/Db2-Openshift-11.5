{
 "cells": [
  {
   "cell_type": "markdown",
   "metadata": {
    "hide_input": true
   },
   "source": [
    "<a id=\"top\"></a>"
   ]
  },
  {
   "cell_type": "markdown",
   "metadata": {},
   "source": [
    "[![](./media/Db2_header_3.png)](https://www.ibm.com/demos/collection/db2-database/)\n",
    "<a id=\"top\">"
   ]
  },
  {
   "cell_type": "code",
   "execution_count": 5,
   "metadata": {
    "hide_input": true,
    "init_cell": true
   },
   "outputs": [
    {
     "data": {
      "application/javascript": [
       "\n",
       "// Scan the entire notebook for cells that have refresh tags and execute them\n",
       "\n",
       "window.findCellIndicesByTag = function findCellIndicesByTag(tagName) {\n",
       "  return (Jupyter.notebook.get_cells()\n",
       "    .filter(\n",
       "      ({metadata: {tags}}) => tags && tags.includes(tagName)\n",
       "    )\n",
       "    .map((cell) => Jupyter.notebook.find_cell_index(cell))\n",
       "  );\n",
       "};\n",
       "\n",
       "window.refresh = function runRefreshCells() {\n",
       "    var c = window.findCellIndicesByTag('refresh');\n",
       "    Jupyter.notebook.execute_cells(c);\n",
       "};\n",
       "\n",
       "\n",
       "// Search for a Markdown cell that contains a comment line with the name of the code we are looking for\n",
       "\n",
       "window.copySearch = function copySearch(id) {\n",
       "    var cells = Jupyter.notebook.get_cells();\n",
       "    for(var i in cells) {\n",
       "        var cell = cells[i];\n",
       "        if (cell['cell_type'] == 'markdown') {\n",
       "            var text = cell.get_text();\n",
       "            var n = text.search(\"<!--\"+id+\"-->\");\n",
       "            if (n != -1) {  \n",
       "                var content = text.replace(/(^<!.*-->.*\\n?)|(```.*\\n?)/g, \"\");\n",
       "                navigator.clipboard.writeText(content);  \n",
       "                return\n",
       "                }\n",
       "        }\n",
       "    }\n",
       "    navigator.clipboard.writeText(\"Cell \" + id + \" not found\"); \n",
       "}\n",
       "\n",
       "// Highlight the background of the current cell and copy the contents onto the clipboard\n",
       "\n",
       "window.clipline = function clipline(codeIndex) {\n",
       "    var cell = document.getElementById(codeIndex);\n",
       "    var code = cell.textContent;\n",
       "    var parent = cell.parentNode;\n",
       "    parent.style.backgroundColor = \"lightBlue\"; // backcolor\n",
       "    navigator.clipboard.writeText(code);\n",
       "  \n",
       "    \n",
       "}\n",
       "\n",
       "window.reset = function reset(codeIndex) {\n",
       "    var cell = document.getElementById(codeIndex);\n",
       "    var parent = cell.parentNode;\n",
       "    parent.style.backgroundColor = \"#000000\" // backcolor\n",
       "}\n",
       "window.reset2 = function reset2(codeIndex) {\n",
       "    var cell = document.getElementById(codeIndex);\n",
       "    var parent = cell.parentNode;\n",
       "    parent.style.backgroundColor = \"white\" // backcolor\n",
       "}\n"
      ],
      "text/plain": [
       "<IPython.core.display.Javascript object>"
      ]
     },
     "metadata": {},
     "output_type": "display_data"
    },
    {
     "data": {
      "application/javascript": [
       "window.refresh()"
      ],
      "text/plain": [
       "<IPython.core.display.Javascript object>"
      ]
     },
     "metadata": {},
     "output_type": "display_data"
    }
   ],
   "source": [
    "%run refresh.ipynb"
   ]
  },
  {
   "cell_type": "markdown",
   "metadata": {
    "ExecuteTime": {
     "end_time": "2019-11-22T06:48:43.672980Z",
     "start_time": "2019-11-22T06:48:43.665851Z"
    },
    "hideCode": false,
    "hidePrompt": false
   },
   "source": [
    "# External Tables on Db2 for Openshift\n",
    "Db2 11.5 introduces support for External tables. External tables are objects that reside on a local or remote file system that Db2 can create or read as if they were standard SQL tables. The advantage of using external tables for Extraction-Transformation-Loading (ETL) processes is that they can be carried out using plain SQL. Because an SQL-based ETL process can be initiated from any SQL client, it eliminates the need for special ETL tools.\n",
    "\n",
    "Use an external table to: \n",
    "* Load data from an external file into a table in the database\n",
    "* Unload data from the database into an external file\n",
    "* Store data outside the database while retaining the ability to query that data\n",
    "\n",
    "External Table Usage:\n",
    "* Use a FROM clause in a SELECT SQL statement as you would for any other table\n",
    "* Specify the external table as the target table in one of the following SQL statements:\n",
    "  - `INSERT SQL`\n",
    "  - `SELECT INTO SQL`\n",
    "  - `CREATE EXTERNAL TABLE AS SELECT SQL`\n",
    "\n",
    "* You can perform operations such as casts, joins, and dropping columns to manipulate data during loading\n"
   ]
  },
  {
   "cell_type": "markdown",
   "metadata": {},
   "source": [
    "## The Difference working With OpenShift and External Tables\n",
    "\n",
    "With Opernshift and container deployments there is no going in through the front door, so to speak, to put files on a server. Instead they need to be placed in the Persistent Volume your db2 Openshift deployment has a claim on and we prescribe specific directory that is available to db2 Data partitions across all nodes. they is going to be the \"scratch\" directory within the persistent volume we created earlier.\n",
    "\n",
    "from a Db2 perspective, this means we will set our external tables path to \"/mnt/bluemeta0/scratch\""
   ]
  },
  {
   "cell_type": "markdown",
   "metadata": {
    "ExecuteTime": {
     "end_time": "2019-11-22T05:52:05.841231Z",
     "start_time": "2019-11-22T05:52:05.837241Z"
    }
   },
   "source": [
    "### Load Db2 Extensions and Connect to the Database\n",
    "The `connection` notebook contains the `CONNECT` statement which allows access to the `SAMPLE` database. If you need to modify the connection information, edit the `connection.ipynb` notebook."
   ]
  },
  {
   "cell_type": "code",
   "execution_count": 4,
   "metadata": {
    "scrolled": true
   },
   "outputs": [
    {
     "name": "stdout",
     "output_type": "stream",
     "text": [
      "Db2 Extensions Loaded.\n"
     ]
    }
   ],
   "source": [
    "%run db2.ipynb"
   ]
  },
  {
   "cell_type": "code",
   "execution_count": 4,
   "metadata": {},
   "outputs": [
    {
     "name": "stdout",
     "output_type": "stream",
     "text": [
      "Connection successful.\n"
     ]
    }
   ],
   "source": [
    "%sql connect to bludb user db2inst1 using db2inst1 host 192.168.154.132 port 32605"
   ]
  },
  {
   "cell_type": "markdown",
   "metadata": {},
   "source": [
    "## A Video Introduction to External Tables\n",
    "This video will review all of the details surrounding the External Table syntax. "
   ]
  },
  {
   "cell_type": "code",
   "execution_count": 6,
   "metadata": {
    "hide_input": true,
    "scrolled": true,
    "tags": [
     "refresh"
    ]
   },
   "outputs": [
    {
     "data": {
      "text/html": [
       "<iframe width=\"560\" height=\"315\" src=\"https://www.youtube.com/embed/RMMExarvBVk\">\n"
      ],
      "text/plain": [
       "<IPython.core.display.HTML object>"
      ]
     },
     "metadata": {},
     "output_type": "display_data"
    }
   ],
   "source": [
    "%%html\n",
    "<iframe width=\"560\" height=\"315\" src=\"https://www.youtube.com/embed/RMMExarvBVk\">"
   ]
  },
  {
   "cell_type": "markdown",
   "metadata": {},
   "source": [
    "## Detailed Presentation on External Tables\n",
    "The following presentation will take you through some of the features that are available with External Tables. You can also use the links below to view the presentation in a separate window. Below this presentation you will see examples of External Tables in action."
   ]
  },
  {
   "cell_type": "code",
   "execution_count": 7,
   "metadata": {
    "ExecuteTime": {
     "end_time": "2019-11-22T06:46:26.795666Z",
     "start_time": "2019-11-22T06:46:26.790875Z"
    },
    "hide_input": true,
    "scrolled": false,
    "tags": [
     "refresh"
    ]
   },
   "outputs": [
    {
     "data": {
      "text/html": [
       "<iframe width=\"800\" height=\"500\" src=\"http://www.slideshare.net/slideshow/embed_code/key/ynOvNEfYGrQZ7q\">\n"
      ],
      "text/plain": [
       "<IPython.core.display.HTML object>"
      ]
     },
     "metadata": {},
     "output_type": "display_data"
    }
   ],
   "source": [
    "%%html\n",
    "<iframe width=\"800\" height=\"500\" src=\"http://www.slideshare.net/slideshow/embed_code/key/ynOvNEfYGrQZ7q\">"
   ]
  },
  {
   "cell_type": "markdown",
   "metadata": {
    "ExecuteTime": {
     "end_time": "2019-11-22T06:46:26.795666Z",
     "start_time": "2019-11-22T06:46:26.790875Z"
    },
    "hide_input": true
   },
   "source": [
    "[IBM Db2 11.5 External Tables](https://www.slideshare.net/PhilDowney1/ibm-db2-115-external-tables-196331418) by\n",
    "[Phil Downey](https://www.slideshare.net/PhilDowney1)"
   ]
  },
  {
   "cell_type": "markdown",
   "metadata": {},
   "source": [
    "Retrieving the name of the notebook user for future use."
   ]
  },
  {
   "cell_type": "markdown",
   "metadata": {},
   "source": [
    "### External Table Path\n",
    "In order for Db2 to access external tables, it must be given the relative access path for these objects. The next cell will get the current path that we are running in. This path will then be used to update the Database `EXTBL_LOCATION` field so that the reads and writes to external tables will run."
   ]
  },
  {
   "cell_type": "code",
   "execution_count": 73,
   "metadata": {},
   "outputs": [
    {
     "name": "stdout",
     "output_type": "stream",
     "text": [
      "The current notebook directory is /home/db2pot/notebooks\n"
     ]
    }
   ],
   "source": [
    "import os\n",
    "notebook_directory = os.path.abspath('.')\n",
    "print('The current notebook directory is ' + notebook_directory)"
   ]
  },
  {
   "cell_type": "markdown",
   "metadata": {},
   "source": [
    "To allow simultaneous users to access the external table directory, we are going to use `DB2INST1` home directory as the location of all of the files. "
   ]
  },
  {
   "cell_type": "code",
   "execution_count": 58,
   "metadata": {},
   "outputs": [],
   "source": [
    "db2inst1_directory = '/mnt/blumeta0/scratch'\n",
    "Persistent_volume_directory = '/home/db2pot/db2vol1/scratch'"
   ]
  },
  {
   "cell_type": "markdown",
   "metadata": {},
   "source": [
    "We create a string that will update the database configuration so that the `DB2INST1` directory will be used as the directory for all files."
   ]
  },
  {
   "cell_type": "code",
   "execution_count": 19,
   "metadata": {},
   "outputs": [],
   "source": [
    "admin_cmd = 'UPDATE DB CONFIG FOR BLUDB USING EXTBL_LOCATION \"' + db2inst1_directory + '\" IMMEDIATE'"
   ]
  },
  {
   "cell_type": "markdown",
   "metadata": {},
   "source": [
    "The following SQL will use the Db2 `ADMIN_CMD` to update the database setting to allow for reading and writing of external files to this directory."
   ]
  },
  {
   "cell_type": "code",
   "execution_count": 20,
   "metadata": {},
   "outputs": [],
   "source": [
    "%sql CALL ADMIN_CMD({admin_cmd})"
   ]
  },
  {
   "cell_type": "markdown",
   "metadata": {},
   "source": [
    "### External Table Files\n",
    "The three files that are used for the external table examples will be copied from the notebook directory to the `DB2INST1` home directory. If copies of the files already exist, they will not be replaced. If you do want to replace the existing files, remove the `-u` flag from the command."
   ]
  },
  {
   "cell_type": "code",
   "execution_count": 78,
   "metadata": {},
   "outputs": [
    {
     "name": "stdout",
     "output_type": "stream",
     "text": [
      "cp -uf /home/db2pot/notebooks/*.csv /home/db2pot/db2vol1/scratch\n"
     ]
    }
   ],
   "source": [
    "cmd = \"cp -uf {0}/*.csv {1}\".format(notebook_directory, Persistent_volume_directory)\n",
    "print(cmd)\n",
    "!{cmd}"
   ]
  },
  {
   "cell_type": "markdown",
   "metadata": {},
   "source": [
    "### Stocks Tables\n",
    "The following examples will use two files to demonstrate the use of External tables. The two files are:\n",
    "- Stock Data - Information for all opening and closing values for the DJIA average in 2018\n",
    "- Stock Labels - Full name of the stock indexes\n",
    "The files are located within this notebook directory so when refering to these files in Db2 we must supply an absolute address, not a relative one to Db2."
   ]
  },
  {
   "cell_type": "markdown",
   "metadata": {},
   "source": [
    "### Absolute Path\n",
    "We need to use the absolute path of a file for use with Db2, so we create the full paths for the two files."
   ]
  },
  {
   "cell_type": "code",
   "execution_count": 65,
   "metadata": {},
   "outputs": [
    {
     "name": "stdout",
     "output_type": "stream",
     "text": [
      "/mnt/blumeta0/scratch/djia-2018.csv\n",
      "/mnt/blumeta0/scratch/djia-symbols.csv\n"
     ]
    }
   ],
   "source": [
    "import os\n",
    "djia_2018    = \"{0}/{1}\".format(db2inst1_directory,\"djia-2018.csv\")\n",
    "djia_symbols = \"{0}/{1}\".format(db2inst1_directory,\"djia-symbols.csv\")\n",
    "print(djia_2018)\n",
    "print(djia_symbols)"
   ]
  },
  {
   "cell_type": "markdown",
   "metadata": {},
   "source": [
    "The first step is to verify the files and display the first 5 lines of each file."
   ]
  },
  {
   "cell_type": "markdown",
   "metadata": {},
   "source": [
    "### Using SELECT (Transient) statements against External Tables\n",
    "The following SQL will read the data from the `SYMBOLS` table and display it in a grid."
   ]
  },
  {
   "cell_type": "code",
   "execution_count": 62,
   "metadata": {},
   "outputs": [
    {
     "name": "stdout",
     "output_type": "stream",
     "text": [
      "CPU times: user 3.08 ms, sys: 1.61 ms, total: 4.7 ms\n",
      "Wall time: 102 ms\n"
     ]
    }
   ],
   "source": [
    "%%time\n",
    "sql = \"\"\"\n",
    "SELECT * FROM EXTERNAL :djia_symbols (\n",
    "    SYMBOL VARCHAR(10),\n",
    "    NAME   VARCHAR(255)\n",
    "    )\n",
    "    USING ( DELIMITER ',' STRING_DELIMITER DOUBLE SKIP_ROWS 1 NOLOG TRUE )\n",
    "\"\"\"\n",
    "%sql {sql}"
   ]
  },
  {
   "cell_type": "markdown",
   "metadata": {},
   "source": [
    "###### This next SQL statement will retrieve all of the data from the 2018 stock transactions."
   ]
  },
  {
   "cell_type": "code",
   "execution_count": 25,
   "metadata": {},
   "outputs": [
    {
     "data": {
      "text/html": [
       "<div>\n",
       "<style scoped>\n",
       "    .dataframe tbody tr th:only-of-type {\n",
       "        vertical-align: middle;\n",
       "    }\n",
       "\n",
       "    .dataframe tbody tr th {\n",
       "        vertical-align: top;\n",
       "    }\n",
       "\n",
       "    .dataframe thead th {\n",
       "        text-align: right;\n",
       "    }\n",
       "</style>\n",
       "<table border=\"1\" class=\"dataframe\">\n",
       "  <thead>\n",
       "    <tr style=\"text-align: right;\">\n",
       "      <th></th>\n",
       "      <th>SYMBOL</th>\n",
       "      <th>TX_DATE</th>\n",
       "      <th>HIGH_VAL</th>\n",
       "      <th>LOW_VAL</th>\n",
       "      <th>OPEN_VAL</th>\n",
       "      <th>CLOSE_VAL</th>\n",
       "      <th>VOLUME</th>\n",
       "    </tr>\n",
       "  </thead>\n",
       "  <tbody>\n",
       "    <tr>\n",
       "      <th>0</th>\n",
       "      <td>AAPL</td>\n",
       "      <td>2017-12-18</td>\n",
       "      <td>177.20</td>\n",
       "      <td>174.86</td>\n",
       "      <td>174.88</td>\n",
       "      <td>176.42</td>\n",
       "      <td>29421100</td>\n",
       "    </tr>\n",
       "    <tr>\n",
       "      <th>1</th>\n",
       "      <td>AAPL</td>\n",
       "      <td>2017-12-19</td>\n",
       "      <td>175.39</td>\n",
       "      <td>174.09</td>\n",
       "      <td>175.03</td>\n",
       "      <td>174.54</td>\n",
       "      <td>27436400</td>\n",
       "    </tr>\n",
       "    <tr>\n",
       "      <th>2</th>\n",
       "      <td>AAPL</td>\n",
       "      <td>2017-12-20</td>\n",
       "      <td>175.42</td>\n",
       "      <td>173.25</td>\n",
       "      <td>174.87</td>\n",
       "      <td>174.35</td>\n",
       "      <td>23475600</td>\n",
       "    </tr>\n",
       "    <tr>\n",
       "      <th>3</th>\n",
       "      <td>AAPL</td>\n",
       "      <td>2017-12-21</td>\n",
       "      <td>176.02</td>\n",
       "      <td>174.10</td>\n",
       "      <td>174.17</td>\n",
       "      <td>175.01</td>\n",
       "      <td>20949900</td>\n",
       "    </tr>\n",
       "    <tr>\n",
       "      <th>4</th>\n",
       "      <td>AAPL</td>\n",
       "      <td>2017-12-22</td>\n",
       "      <td>175.42</td>\n",
       "      <td>174.50</td>\n",
       "      <td>174.68</td>\n",
       "      <td>175.01</td>\n",
       "      <td>16114600</td>\n",
       "    </tr>\n",
       "    <tr>\n",
       "      <th>...</th>\n",
       "      <td>...</td>\n",
       "      <td>...</td>\n",
       "      <td>...</td>\n",
       "      <td>...</td>\n",
       "      <td>...</td>\n",
       "      <td>...</td>\n",
       "      <td>...</td>\n",
       "    </tr>\n",
       "    <tr>\n",
       "      <th>7495</th>\n",
       "      <td>XOM</td>\n",
       "      <td>2018-12-10</td>\n",
       "      <td>77.86</td>\n",
       "      <td>74.80</td>\n",
       "      <td>77.86</td>\n",
       "      <td>76.54</td>\n",
       "      <td>17946200</td>\n",
       "    </tr>\n",
       "    <tr>\n",
       "      <th>7496</th>\n",
       "      <td>XOM</td>\n",
       "      <td>2018-12-11</td>\n",
       "      <td>77.80</td>\n",
       "      <td>75.68</td>\n",
       "      <td>77.70</td>\n",
       "      <td>76.68</td>\n",
       "      <td>15742400</td>\n",
       "    </tr>\n",
       "    <tr>\n",
       "      <th>7497</th>\n",
       "      <td>XOM</td>\n",
       "      <td>2018-12-12</td>\n",
       "      <td>78.20</td>\n",
       "      <td>76.02</td>\n",
       "      <td>78.04</td>\n",
       "      <td>76.02</td>\n",
       "      <td>14559800</td>\n",
       "    </tr>\n",
       "    <tr>\n",
       "      <th>7498</th>\n",
       "      <td>XOM</td>\n",
       "      <td>2018-12-13</td>\n",
       "      <td>77.22</td>\n",
       "      <td>75.95</td>\n",
       "      <td>76.03</td>\n",
       "      <td>76.98</td>\n",
       "      <td>13749700</td>\n",
       "    </tr>\n",
       "    <tr>\n",
       "      <th>7499</th>\n",
       "      <td>XOM</td>\n",
       "      <td>2018-12-14</td>\n",
       "      <td>76.87</td>\n",
       "      <td>75.09</td>\n",
       "      <td>76.72</td>\n",
       "      <td>75.58</td>\n",
       "      <td>12668800</td>\n",
       "    </tr>\n",
       "  </tbody>\n",
       "</table>\n",
       "<p>7500 rows × 7 columns</p>\n",
       "</div>"
      ],
      "text/plain": [
       "     SYMBOL     TX_DATE  HIGH_VAL  LOW_VAL  OPEN_VAL  CLOSE_VAL    VOLUME\n",
       "0      AAPL  2017-12-18    177.20   174.86    174.88     176.42  29421100\n",
       "1      AAPL  2017-12-19    175.39   174.09    175.03     174.54  27436400\n",
       "2      AAPL  2017-12-20    175.42   173.25    174.87     174.35  23475600\n",
       "3      AAPL  2017-12-21    176.02   174.10    174.17     175.01  20949900\n",
       "4      AAPL  2017-12-22    175.42   174.50    174.68     175.01  16114600\n",
       "...     ...         ...       ...      ...       ...        ...       ...\n",
       "7495    XOM  2018-12-10     77.86    74.80     77.86      76.54  17946200\n",
       "7496    XOM  2018-12-11     77.80    75.68     77.70      76.68  15742400\n",
       "7497    XOM  2018-12-12     78.20    76.02     78.04      76.02  14559800\n",
       "7498    XOM  2018-12-13     77.22    75.95     76.03      76.98  13749700\n",
       "7499    XOM  2018-12-14     76.87    75.09     76.72      75.58  12668800\n",
       "\n",
       "[7500 rows x 7 columns]"
      ]
     },
     "execution_count": 25,
     "metadata": {},
     "output_type": "execute_result"
    }
   ],
   "source": [
    "%%sql\n",
    "SELECT * FROM EXTERNAL :djia_2018 (\n",
    "    SYMBOL    VARCHAR(4),\n",
    "    TX_DATE   DATE,\n",
    "    HIGH_VAL  DEC(9,2),\n",
    "    LOW_VAL   DEC(9,2),\n",
    "    OPEN_VAL  DEC(9,2),\n",
    "    CLOSE_VAL DEC(9,2),\n",
    "    VOLUME    INT\n",
    "    )\n",
    "    USING ( DELIMITER ',' STRING_DELIMITER DOUBLE SKIP_ROWS 1 NOLOG TRUE )"
   ]
  },
  {
   "cell_type": "markdown",
   "metadata": {},
   "source": [
    "### Cataloging External Tables\n",
    "The previous examples used a transient form of external table. The external table definition only existed during the execution of the SQL statement. Rather than define the external table every time, you have the option of cataloging the external table. When the external table is cataloged, you refer to it in the same way as a standard SQL table. The underlying file is checked at execution time, so it is possible that this file changes from day to day. Only when the SQL is executed is the existence of the file checked."
   ]
  },
  {
   "cell_type": "code",
   "execution_count": 50,
   "metadata": {},
   "outputs": [
    {
     "name": "stdout",
     "output_type": "stream",
     "text": [
      "Command completed.\n"
     ]
    }
   ],
   "source": [
    "%%sql \n",
    "DROP TABLE IF EXISTS DJIA_2018;\n",
    "DROP TABLE IF EXISTS DJIA_SYMBOLS;"
   ]
  },
  {
   "cell_type": "markdown",
   "metadata": {},
   "source": [
    "The `CREATE EXTERNAL TABLE` uses the same syntax as the transient example shown earlier. The only difference is that we are creating an actual entry in the Db2 catalog that will refer to this external table."
   ]
  },
  {
   "cell_type": "code",
   "execution_count": 27,
   "metadata": {},
   "outputs": [
    {
     "name": "stdout",
     "output_type": "stream",
     "text": [
      "Command completed.\n"
     ]
    }
   ],
   "source": [
    "%%sql\n",
    "CREATE EXTERNAL TABLE DJIA_2018  \n",
    "    (\n",
    "    SYMBOL    VARCHAR(4),\n",
    "    TX_DATE   DATE,\n",
    "    HIGH_VAL  DEC(9,2),\n",
    "    LOW_VAL   DEC(9,2),\n",
    "    OPEN_VAL  DEC(9,2),\n",
    "    CLOSE_VAL DEC(9,2),\n",
    "    VOLUME    INT\n",
    "    )\n",
    "    USING ( DELIMITER ',' STRING_DELIMITER DOUBLE SKIP_ROWS 1 FILE_NAME :djia_2018 NOLOG TRUE );\n",
    "\n",
    "CREATE EXTERNAL TABLE DJIA_SYMBOLS  \n",
    "    (\n",
    "    SYMBOL VARCHAR(4),\n",
    "    NAME   VARCHAR(255)\n",
    "    )\n",
    "    USING ( DELIMITER ',' STRING_DELIMITER DOUBLE SKIP_ROWS 1 FILE_NAME :djia_symbols NOLOG TRUE ) ;"
   ]
  },
  {
   "cell_type": "markdown",
   "metadata": {},
   "source": [
    "The external tables can now be referenced in a SQL statement in the same way as any other SQL table. External tables cannot be indexed or be part of summary tables. \n",
    "\n",
    "The next SQL statement retrieves only the transactions that exceeded 180 in value and belonged to AAPL."
   ]
  },
  {
   "cell_type": "code",
   "execution_count": 28,
   "metadata": {},
   "outputs": [
    {
     "data": {
      "application/vnd.jupyter.widget-view+json": {
       "model_id": "358fc6aaffb44a869547661f1f749af4",
       "version_major": 2,
       "version_minor": 0
      },
      "text/plain": [
       "QgridWidget(grid_options={'fullWidthRows': True, 'syncColumnCellResize': True, 'forceFitColumns': False, 'defa…"
      ]
     },
     "metadata": {},
     "output_type": "display_data"
    }
   ],
   "source": [
    "%sql -grid select * from djia_2018 where symbol='AAPL' and close_val > 180"
   ]
  },
  {
   "cell_type": "markdown",
   "metadata": {},
   "source": [
    "Since these external tables are cataloged and look like any other SQL table, we can include joins and other calculations on the columns."
   ]
  },
  {
   "cell_type": "code",
   "execution_count": 29,
   "metadata": {},
   "outputs": [
    {
     "data": {
      "application/vnd.jupyter.widget-view+json": {
       "model_id": "191d81ff526c48d88c02882d4c32d4c8",
       "version_major": 2,
       "version_minor": 0
      },
      "text/plain": [
       "QgridWidget(grid_options={'fullWidthRows': True, 'syncColumnCellResize': True, 'forceFitColumns': False, 'defa…"
      ]
     },
     "metadata": {},
     "output_type": "display_data"
    }
   ],
   "source": [
    "%%sql -grid\n",
    "SELECT S.NAME, MAX(HIGH_VAL) AS HIGH, MIN(LOW_VAL) AS LOW, MAX(VOLUME) AS MAX_VOLUME, MIN(VOLUME) AS MIN_VOLUME\n",
    "  FROM DJIA_SYMBOLS S, DJIA_2018 T\n",
    "WHERE\n",
    "  S.SYMBOL = T.SYMBOL\n",
    "GROUP BY S.NAME"
   ]
  },
  {
   "cell_type": "markdown",
   "metadata": {},
   "source": [
    "<a id=\"Slides\"></a>"
   ]
  },
  {
   "cell_type": "markdown",
   "metadata": {},
   "source": [
    "## Additional External Table Scenarios\n",
    "This section will explore some additional ways of using External tables. The `product_txs.csv` file contains approximately 100000 transactions that will be queried in this section. \n",
    "\n",
    "The first step is to get the absolute file location of the product file."
   ]
  },
  {
   "cell_type": "code",
   "execution_count": 30,
   "metadata": {},
   "outputs": [],
   "source": [
    "import os\n",
    "product_txs    = \"{0}/{1}\".format(db2inst1_directory,\"product_txs.csv\")"
   ]
  },
  {
   "cell_type": "markdown",
   "metadata": {},
   "source": [
    "We check to make sure that we have access to the external file with the following SQL statement. Note that we can restrict the number of records being returned either with the `USING MAXROWS` clause of the external table statement, or by using the SQL `FETCH FIRST` syntax."
   ]
  },
  {
   "cell_type": "code",
   "execution_count": 31,
   "metadata": {},
   "outputs": [
    {
     "data": {
      "application/vnd.jupyter.widget-view+json": {
       "model_id": "e500e6d15c8e4cc7aad649e08ad2e2f9",
       "version_major": 2,
       "version_minor": 0
      },
      "text/plain": [
       "QgridWidget(grid_options={'fullWidthRows': True, 'syncColumnCellResize': True, 'forceFitColumns': False, 'defa…"
      ]
     },
     "metadata": {},
     "output_type": "display_data"
    }
   ],
   "source": [
    "%%sql -grid\n",
    "SELECT * FROM EXTERNAL :product_txs\n",
    "  ( \n",
    "  RECEIPT_ID BIGINT, \n",
    "  TX_DATE    CHAR(10),\n",
    "  TX_NO      INT,\n",
    "  PRODUCT_ID INT,\n",
    "  PRODUCT    VARCHAR(100), \n",
    "  QUANTITY   INT ,\n",
    "  ITEM_COST  DEC(15,2)\n",
    "  ) \n",
    "  USING ( DELIMITER ',' SKIPROWS 1 NOLOG TRUE ) \n",
    "FETCH FIRST 100 ROWS ONLY"
   ]
  },
  {
   "cell_type": "markdown",
   "metadata": {},
   "source": [
    "To make our life easier, we will create a catalog entry for this external table."
   ]
  },
  {
   "cell_type": "code",
   "execution_count": 56,
   "metadata": {},
   "outputs": [
    {
     "name": "stdout",
     "output_type": "stream",
     "text": [
      "Command completed.\n"
     ]
    }
   ],
   "source": [
    "%%sql  \n",
    "DROP TABLE  IF EXISTS PRODUCT_TXS;\n",
    "CREATE EXTERNAL TABLE PRODUCT_TXS\n",
    "  ( \n",
    "  RECEIPT_ID BIGINT, \n",
    "  TX_DATE    CHAR(10),\n",
    "  TX_NO      INT,\n",
    "  PRODUCT_ID INT,\n",
    "  PRODUCT    VARCHAR(100), \n",
    "  QUANTITY   INT ,\n",
    "  ITEM_COST  DEC(15,2)\n",
    "  ) \n",
    "  USING ( DATAOBJECT :product_txs DELIMITER ',' SKIPROWS 1 NOLOG TRUE )  "
   ]
  },
  {
   "cell_type": "markdown",
   "metadata": {},
   "source": [
    "We should now be able to retrieve data from this table using standard SQL syntax."
   ]
  },
  {
   "cell_type": "code",
   "execution_count": 33,
   "metadata": {},
   "outputs": [
    {
     "data": {
      "text/html": [
       "<div>\n",
       "<style scoped>\n",
       "    .dataframe tbody tr th:only-of-type {\n",
       "        vertical-align: middle;\n",
       "    }\n",
       "\n",
       "    .dataframe tbody tr th {\n",
       "        vertical-align: top;\n",
       "    }\n",
       "\n",
       "    .dataframe thead th {\n",
       "        text-align: right;\n",
       "    }\n",
       "</style>\n",
       "<table border=\"1\" class=\"dataframe\">\n",
       "  <thead>\n",
       "    <tr style=\"text-align: right;\">\n",
       "      <th></th>\n",
       "      <th>RECEIPT_ID</th>\n",
       "      <th>TX_DATE</th>\n",
       "      <th>TX_NO</th>\n",
       "      <th>PRODUCT_ID</th>\n",
       "      <th>PRODUCT</th>\n",
       "      <th>QUANTITY</th>\n",
       "      <th>ITEM_COST</th>\n",
       "    </tr>\n",
       "  </thead>\n",
       "  <tbody>\n",
       "    <tr>\n",
       "      <th>0</th>\n",
       "      <td>10108</td>\n",
       "      <td>2018-10-12</td>\n",
       "      <td>301727</td>\n",
       "      <td>1156</td>\n",
       "      <td>Garden Sprinkler</td>\n",
       "      <td>1</td>\n",
       "      <td>252.82</td>\n",
       "    </tr>\n",
       "    <tr>\n",
       "      <th>1</th>\n",
       "      <td>10084</td>\n",
       "      <td>2018-08-17</td>\n",
       "      <td>219572</td>\n",
       "      <td>1180</td>\n",
       "      <td>Rake</td>\n",
       "      <td>1</td>\n",
       "      <td>211.04</td>\n",
       "    </tr>\n",
       "    <tr>\n",
       "      <th>2</th>\n",
       "      <td>10052</td>\n",
       "      <td>2017-05-26</td>\n",
       "      <td>151729</td>\n",
       "      <td>1625</td>\n",
       "      <td>Rake</td>\n",
       "      <td>1</td>\n",
       "      <td>290.50</td>\n",
       "    </tr>\n",
       "    <tr>\n",
       "      <th>3</th>\n",
       "      <td>10031</td>\n",
       "      <td>2017-05-07</td>\n",
       "      <td>158870</td>\n",
       "      <td>1040</td>\n",
       "      <td>Rake</td>\n",
       "      <td>1</td>\n",
       "      <td>269.79</td>\n",
       "    </tr>\n",
       "    <tr>\n",
       "      <th>4</th>\n",
       "      <td>10017</td>\n",
       "      <td>2018-06-20</td>\n",
       "      <td>216252</td>\n",
       "      <td>1883</td>\n",
       "      <td>Miniature Scythe</td>\n",
       "      <td>1</td>\n",
       "      <td>110.04</td>\n",
       "    </tr>\n",
       "    <tr>\n",
       "      <th>5</th>\n",
       "      <td>9977</td>\n",
       "      <td>2018-08-21</td>\n",
       "      <td>255751</td>\n",
       "      <td>1336</td>\n",
       "      <td>Precision Edger Turbo</td>\n",
       "      <td>1</td>\n",
       "      <td>214.28</td>\n",
       "    </tr>\n",
       "    <tr>\n",
       "      <th>6</th>\n",
       "      <td>9954</td>\n",
       "      <td>2019-04-16</td>\n",
       "      <td>221938</td>\n",
       "      <td>1609</td>\n",
       "      <td>Rake</td>\n",
       "      <td>1</td>\n",
       "      <td>293.66</td>\n",
       "    </tr>\n",
       "    <tr>\n",
       "      <th>7</th>\n",
       "      <td>9926</td>\n",
       "      <td>2017-08-25</td>\n",
       "      <td>203057</td>\n",
       "      <td>1640</td>\n",
       "      <td>Rake</td>\n",
       "      <td>1</td>\n",
       "      <td>261.52</td>\n",
       "    </tr>\n",
       "    <tr>\n",
       "      <th>8</th>\n",
       "      <td>9922</td>\n",
       "      <td>2017-08-26</td>\n",
       "      <td>263501</td>\n",
       "      <td>1367</td>\n",
       "      <td>Rake</td>\n",
       "      <td>1</td>\n",
       "      <td>180.08</td>\n",
       "    </tr>\n",
       "    <tr>\n",
       "      <th>9</th>\n",
       "      <td>9906</td>\n",
       "      <td>2017-06-19</td>\n",
       "      <td>300412</td>\n",
       "      <td>1045</td>\n",
       "      <td>Rake</td>\n",
       "      <td>1</td>\n",
       "      <td>189.48</td>\n",
       "    </tr>\n",
       "  </tbody>\n",
       "</table>\n",
       "</div>"
      ],
      "text/plain": [
       "   RECEIPT_ID     TX_DATE   TX_NO  PRODUCT_ID                PRODUCT  \\\n",
       "0       10108  2018-10-12  301727        1156       Garden Sprinkler   \n",
       "1       10084  2018-08-17  219572        1180                   Rake   \n",
       "2       10052  2017-05-26  151729        1625                   Rake   \n",
       "3       10031  2017-05-07  158870        1040                   Rake   \n",
       "4       10017  2018-06-20  216252        1883       Miniature Scythe   \n",
       "5        9977  2018-08-21  255751        1336  Precision Edger Turbo   \n",
       "6        9954  2019-04-16  221938        1609                   Rake   \n",
       "7        9926  2017-08-25  203057        1640                   Rake   \n",
       "8        9922  2017-08-26  263501        1367                   Rake   \n",
       "9        9906  2017-06-19  300412        1045                   Rake   \n",
       "\n",
       "   QUANTITY  ITEM_COST  \n",
       "0         1     252.82  \n",
       "1         1     211.04  \n",
       "2         1     290.50  \n",
       "3         1     269.79  \n",
       "4         1     110.04  \n",
       "5         1     214.28  \n",
       "6         1     293.66  \n",
       "7         1     261.52  \n",
       "8         1     180.08  \n",
       "9         1     189.48  "
      ]
     },
     "execution_count": 33,
     "metadata": {},
     "output_type": "execute_result"
    }
   ],
   "source": [
    "%sql SELECT * FROM PRODUCT_TXS FETCH FIRST 10 ROWS ONLY"
   ]
  },
  {
   "cell_type": "markdown",
   "metadata": {},
   "source": [
    "For reference, let's see how many records are found in the product table."
   ]
  },
  {
   "cell_type": "code",
   "execution_count": 34,
   "metadata": {},
   "outputs": [
    {
     "name": "stdout",
     "output_type": "stream",
     "text": [
      "92773\n"
     ]
    }
   ],
   "source": [
    "result = %sql -r -nq SELECT COUNT(*) FROM PRODUCT_TXS\n",
    "product_count = result[1][0]\n",
    "print(product_count)"
   ]
  },
  {
   "cell_type": "markdown",
   "metadata": {},
   "source": [
    "## Merging Data From an External Table into a Database Table\n",
    "The following SQL will merge data from the external table into an existing table. One shortcut that you can use with external tables is through the use of the `LIKE` clause. If a table already exists that has the same columns as the external table, you can use its definition rather than explicitly typing them out.\n",
    "\n",
    "The real table that we are going to use is called `ASSOC_TRANS` and will be used as a template for our external table."
   ]
  },
  {
   "cell_type": "code",
   "execution_count": 55,
   "metadata": {},
   "outputs": [
    {
     "name": "stdout",
     "output_type": "stream",
     "text": [
      "Command completed.\n"
     ]
    }
   ],
   "source": [
    "%%sql \n",
    "DROP TABLE IF EXISTS ASSOC_TRANS;\n",
    "CREATE TABLE ASSOC_TRANS\n",
    "  ( \n",
    "  RECEIPT_ID BIGINT, \n",
    "  TX_DATE    CHAR(10),\n",
    "  TX_NO      INT,\n",
    "  PRODUCT_ID INT,\n",
    "  PRODUCT    VARCHAR(100), \n",
    "  QUANTITY   INT ,\n",
    "  ITEM_COST  DEC(15,2)\n",
    "  ) \n",
    "NOT LOGGED INITIALLY"
   ]
  },
  {
   "cell_type": "markdown",
   "metadata": {},
   "source": [
    "The transactions in the external table that are not `Rake` are inserted into the `ASSOC_TRANS` table."
   ]
  },
  {
   "cell_type": "code",
   "execution_count": 36,
   "metadata": {},
   "outputs": [
    {
     "name": "stdout",
     "output_type": "stream",
     "text": [
      "Command completed.\n"
     ]
    }
   ],
   "source": [
    "%%sql\n",
    "MERGE INTO ASSOC_TRANS T_OLD \n",
    "USING (\n",
    "      SELECT * FROM EXTERNAL :product_txs\n",
    "         LIKE ASSOC_TRANS USING ( DELIMITER ',' SKIPROWS 1 NOLOG TRUE )\n",
    "      WHERE PRODUCT <> 'Rake'\n",
    "      ) AS T_NEW \n",
    "ON (T_OLD.RECEIPT_ID = T_NEW.RECEIPT_ID and T_OLD.TX_NO = T_NEW.TX_NO) \n",
    "WHEN NOT MATCHED THEN \n",
    "  INSERT (RECEIPT_ID, TX_DATE, TX_NO, PRODUCT_ID, PRODUCT, QUANTITY, ITEM_COST) \n",
    "    VALUES (T_NEW.RECEIPT_ID, T_NEW.TX_DATE, T_NEW.TX_NO, T_NEW.PRODUCT_ID, T_NEW.PRODUCT,\n",
    "            T_NEW.QUANTITY, T_NEW.ITEM_COST)"
   ]
  },
  {
   "cell_type": "markdown",
   "metadata": {},
   "source": [
    "At this point the table should contain all records except the ones that were for `Rake`. We do a quick count to see how many records there are."
   ]
  },
  {
   "cell_type": "code",
   "execution_count": 37,
   "metadata": {},
   "outputs": [
    {
     "data": {
      "text/html": [
       "<div>\n",
       "<style scoped>\n",
       "    .dataframe tbody tr th:only-of-type {\n",
       "        vertical-align: middle;\n",
       "    }\n",
       "\n",
       "    .dataframe tbody tr th {\n",
       "        vertical-align: top;\n",
       "    }\n",
       "\n",
       "    .dataframe thead th {\n",
       "        text-align: right;\n",
       "    }\n",
       "</style>\n",
       "<table border=\"1\" class=\"dataframe\">\n",
       "  <thead>\n",
       "    <tr style=\"text-align: right;\">\n",
       "      <th></th>\n",
       "      <th>1</th>\n",
       "    </tr>\n",
       "  </thead>\n",
       "  <tbody>\n",
       "    <tr>\n",
       "      <th>0</th>\n",
       "      <td>72908</td>\n",
       "    </tr>\n",
       "  </tbody>\n",
       "</table>\n",
       "</div>"
      ],
      "text/plain": [
       "       1\n",
       "0  72908"
      ]
     },
     "execution_count": 37,
     "metadata": {},
     "output_type": "execute_result"
    }
   ],
   "source": [
    "%sql SELECT COUNT(*) FROM ASSOC_TRANS"
   ]
  },
  {
   "cell_type": "markdown",
   "metadata": {},
   "source": [
    "We can also ceate a single view of the rows already loaded combined with those for Rake that are not."
   ]
  },
  {
   "cell_type": "code",
   "execution_count": 38,
   "metadata": {},
   "outputs": [
    {
     "data": {
      "image/png": "[encoded data removed]",
      "text/plain": [
       "<Figure size 432x288 with 1 Axes>"
      ]
     },
     "metadata": {},
     "output_type": "display_data"
    }
   ],
   "source": [
    "%%sql -pp\n",
    "SELECT  PRODUCT,SUM(ITEM_COST) TOTAL_REVENUE FROM ASSOC_TRANS \n",
    "GROUP BY PRODUCT\n",
    "  UNION ALL\n",
    "SELECT  PRODUCT,SUM(ITEM_COST) TOTAL_REVENUE FROM PRODUCT_TXS \n",
    "GROUP BY PRODUCT\n",
    "ORDER BY TOTAL_REVENUE DESC FETCH FIRST 10 ROWS ONLY ;"
   ]
  },
  {
   "cell_type": "markdown",
   "metadata": {},
   "source": [
    "The next SQL statement will merge all of the records from the external table into this regular SQL table. If the record already exists, it will be ignored, otherwise it will be inserted into the table."
   ]
  },
  {
   "cell_type": "code",
   "execution_count": 39,
   "metadata": {},
   "outputs": [
    {
     "name": "stdout",
     "output_type": "stream",
     "text": [
      "Command completed.\n"
     ]
    }
   ],
   "source": [
    "%%sql \n",
    "MERGE INTO ASSOC_TRANS T_OLD \n",
    "USING (\n",
    "      SELECT * FROM EXTERNAL :product_txs \n",
    "         LIKE ASSOC_TRANS USING ( DELIMITER ',' SKIPROWS 1 NOLOG TRUE )\n",
    "      ) AS T_NEW \n",
    "ON (T_OLD.RECEIPT_ID = T_NEW.RECEIPT_ID and T_OLD.TX_NO = T_NEW.TX_NO) \n",
    "WHEN NOT MATCHED THEN \n",
    "  INSERT (RECEIPT_ID, TX_DATE, TX_NO, PRODUCT_ID, PRODUCT, QUANTITY, ITEM_COST) \n",
    "    VALUES (T_NEW.RECEIPT_ID, T_NEW.TX_DATE, T_NEW.TX_NO, T_NEW.PRODUCT_ID, T_NEW.PRODUCT,\n",
    "            T_NEW.QUANTITY, T_NEW.ITEM_COST)\n",
    "ELSE IGNORE"
   ]
  },
  {
   "cell_type": "markdown",
   "metadata": {},
   "source": [
    "Now let's find out how many records there are in the `ASSOC_TRANS` table and compare that to the original size of the external product table."
   ]
  },
  {
   "cell_type": "code",
   "execution_count": 40,
   "metadata": {},
   "outputs": [
    {
     "data": {
      "text/html": [
       "<div>\n",
       "<style scoped>\n",
       "    .dataframe tbody tr th:only-of-type {\n",
       "        vertical-align: middle;\n",
       "    }\n",
       "\n",
       "    .dataframe tbody tr th {\n",
       "        vertical-align: top;\n",
       "    }\n",
       "\n",
       "    .dataframe thead th {\n",
       "        text-align: right;\n",
       "    }\n",
       "</style>\n",
       "<table border=\"1\" class=\"dataframe\">\n",
       "  <thead>\n",
       "    <tr style=\"text-align: right;\">\n",
       "      <th></th>\n",
       "      <th>1</th>\n",
       "    </tr>\n",
       "  </thead>\n",
       "  <tbody>\n",
       "    <tr>\n",
       "      <th>0</th>\n",
       "      <td>92773</td>\n",
       "    </tr>\n",
       "  </tbody>\n",
       "</table>\n",
       "</div>"
      ],
      "text/plain": [
       "       1\n",
       "0  92773"
      ]
     },
     "execution_count": 40,
     "metadata": {},
     "output_type": "execute_result"
    }
   ],
   "source": [
    "%sql SELECT COUNT(*) FROM ASSOC_TRANS;"
   ]
  },
  {
   "cell_type": "markdown",
   "metadata": {},
   "source": [
    "The product count should be the same."
   ]
  },
  {
   "cell_type": "code",
   "execution_count": 41,
   "metadata": {},
   "outputs": [
    {
     "name": "stdout",
     "output_type": "stream",
     "text": [
      "92773\n"
     ]
    }
   ],
   "source": [
    "print(product_count)"
   ]
  },
  {
   "cell_type": "markdown",
   "metadata": {},
   "source": [
    "## Creating an External Table\n",
    "You can create external tables by using the `CREATE EXTERNAL TABLE ... AS SELECT...` syntax. The SELECT can contain any arbitrary SQL so the statements can become very complex. You must ensure that Db2 has write access to the directory where the file will be written out to.\n",
    "\n",
    "First we must define the name of the external table that we want to write to. In order to do that, we generate a path that includes the current directory and append the schema (owner) and the name of the file to it."
   ]
  },
  {
   "cell_type": "code",
   "execution_count": 61,
   "metadata": {},
   "outputs": [
    {
     "name": "stdout",
     "output_type": "stream",
     "text": [
      "/mnt/blumeta0/scratch/dump.csv\n"
     ]
    }
   ],
   "source": [
    "dumpfile = \"{0}/dump.csv\".format(db2inst1_directory)\n",
    "print(dumpfile)"
   ]
  },
  {
   "cell_type": "markdown",
   "metadata": {},
   "source": [
    "The next SQL statement will output the contents of the `ASSOC_TRANS` table to the external file. You can limit the amount of data that gets written with the `USING` clause, or you can use SQL options to limit it."
   ]
  },
  {
   "cell_type": "code",
   "execution_count": 45,
   "metadata": {},
   "outputs": [
    {
     "name": "stdout",
     "output_type": "stream",
     "text": [
      "Command completed.\n"
     ]
    }
   ],
   "source": [
    "%%sql \n",
    "CREATE EXTERNAL TABLE :dumpfile \n",
    "  USING ( DELIMITER '|' NOLOG TRUE ) \n",
    "  AS SELECT * FROM ASSOC_TRANS FETCH FIRST 100 ROWS ONLY"
   ]
  },
  {
   "cell_type": "markdown",
   "metadata": {},
   "source": [
    "You must make sure you have the proper permissions to read the file if using anything outside of the Db2 environment. The file that was generated was created under the `CONNECT` userid for this notebook. If you used `DB2INST1` then only that user can access the file. The following code will fail if you didn't have the proper permissions to read the file."
   ]
  },
  {
   "cell_type": "code",
   "execution_count": 59,
   "metadata": {},
   "outputs": [
    {
     "name": "stdout",
     "output_type": "stream",
     "text": [
      "9774|2017-03-30|271184|1087|Leaf Blower|1|156.73\n",
      "8289|2017-03-24|166488|1336|Precision Edger Turbo|1\n"
     ]
    }
   ],
   "source": [
    "try:\n",
    "    file  = open(Persistent_volume_directory+'/dump.csv')\n",
    "    file_contents = file.read(100)\n",
    "    print(file_contents)\n",
    "    file.close()\n",
    "except Exception as e:\n",
    "    print(\"Open failed\")\n",
    "    print(e)"
   ]
  },
  {
   "cell_type": "markdown",
   "metadata": {},
   "source": [
    "However, as a SQL user, you can read it!"
   ]
  },
  {
   "cell_type": "code",
   "execution_count": 60,
   "metadata": {
    "scrolled": true
   },
   "outputs": [
    {
     "data": {
      "text/html": [
       "<div>\n",
       "<style scoped>\n",
       "    .dataframe tbody tr th:only-of-type {\n",
       "        vertical-align: middle;\n",
       "    }\n",
       "\n",
       "    .dataframe tbody tr th {\n",
       "        vertical-align: top;\n",
       "    }\n",
       "\n",
       "    .dataframe thead th {\n",
       "        text-align: right;\n",
       "    }\n",
       "</style>\n",
       "<table border=\"1\" class=\"dataframe\">\n",
       "  <thead>\n",
       "    <tr style=\"text-align: right;\">\n",
       "      <th></th>\n",
       "      <th>RECEIPT_ID</th>\n",
       "      <th>TX_DATE</th>\n",
       "      <th>TX_NO</th>\n",
       "      <th>PRODUCT_ID</th>\n",
       "      <th>PRODUCT</th>\n",
       "      <th>QUANTITY</th>\n",
       "      <th>ITEM_COST</th>\n",
       "    </tr>\n",
       "  </thead>\n",
       "  <tbody>\n",
       "    <tr>\n",
       "      <th>0</th>\n",
       "      <td>8289</td>\n",
       "      <td>2017-03-24</td>\n",
       "      <td>166488</td>\n",
       "      <td>1336</td>\n",
       "      <td>Precision Edger Turbo</td>\n",
       "      <td>1</td>\n",
       "      <td>214.28</td>\n",
       "    </tr>\n",
       "    <tr>\n",
       "      <th>1</th>\n",
       "      <td>8027</td>\n",
       "      <td>2018-08-04</td>\n",
       "      <td>171721</td>\n",
       "      <td>1075</td>\n",
       "      <td>Leaf Blower</td>\n",
       "      <td>1</td>\n",
       "      <td>227.60</td>\n",
       "    </tr>\n",
       "    <tr>\n",
       "      <th>2</th>\n",
       "      <td>7783</td>\n",
       "      <td>2017-07-15</td>\n",
       "      <td>252128</td>\n",
       "      <td>1003</td>\n",
       "      <td>Chubby Grinder</td>\n",
       "      <td>1</td>\n",
       "      <td>267.30</td>\n",
       "    </tr>\n",
       "    <tr>\n",
       "      <th>3</th>\n",
       "      <td>7018</td>\n",
       "      <td>2017-09-13</td>\n",
       "      <td>136168</td>\n",
       "      <td>1018</td>\n",
       "      <td>Round Shovel</td>\n",
       "      <td>1</td>\n",
       "      <td>220.57</td>\n",
       "    </tr>\n",
       "    <tr>\n",
       "      <th>4</th>\n",
       "      <td>7011</td>\n",
       "      <td>2017-11-11</td>\n",
       "      <td>215199</td>\n",
       "      <td>1204</td>\n",
       "      <td>Premium Lawn Mower</td>\n",
       "      <td>1</td>\n",
       "      <td>204.77</td>\n",
       "    </tr>\n",
       "    <tr>\n",
       "      <th>...</th>\n",
       "      <td>...</td>\n",
       "      <td>...</td>\n",
       "      <td>...</td>\n",
       "      <td>...</td>\n",
       "      <td>...</td>\n",
       "      <td>...</td>\n",
       "      <td>...</td>\n",
       "    </tr>\n",
       "    <tr>\n",
       "      <th>94</th>\n",
       "      <td>804651</td>\n",
       "      <td>2017-03-08</td>\n",
       "      <td>960513</td>\n",
       "      <td>1011</td>\n",
       "      <td>Premium Lawn Mower</td>\n",
       "      <td>1</td>\n",
       "      <td>241.71</td>\n",
       "    </tr>\n",
       "    <tr>\n",
       "      <th>95</th>\n",
       "      <td>804092</td>\n",
       "      <td>2018-08-26</td>\n",
       "      <td>991300</td>\n",
       "      <td>1441</td>\n",
       "      <td>Garden Sprinkler</td>\n",
       "      <td>1</td>\n",
       "      <td>157.96</td>\n",
       "    </tr>\n",
       "    <tr>\n",
       "      <th>96</th>\n",
       "      <td>803168</td>\n",
       "      <td>2019-05-03</td>\n",
       "      <td>915121</td>\n",
       "      <td>1995</td>\n",
       "      <td>Green Table Saw</td>\n",
       "      <td>1</td>\n",
       "      <td>195.17</td>\n",
       "    </tr>\n",
       "    <tr>\n",
       "      <th>97</th>\n",
       "      <td>803142</td>\n",
       "      <td>2018-10-20</td>\n",
       "      <td>1055846</td>\n",
       "      <td>1337</td>\n",
       "      <td>Aerator</td>\n",
       "      <td>1</td>\n",
       "      <td>200.09</td>\n",
       "    </tr>\n",
       "    <tr>\n",
       "      <th>98</th>\n",
       "      <td>801996</td>\n",
       "      <td>2018-09-15</td>\n",
       "      <td>935337</td>\n",
       "      <td>1476</td>\n",
       "      <td>Garden Sprinkler</td>\n",
       "      <td>1</td>\n",
       "      <td>147.81</td>\n",
       "    </tr>\n",
       "  </tbody>\n",
       "</table>\n",
       "<p>99 rows × 7 columns</p>\n",
       "</div>"
      ],
      "text/plain": [
       "    RECEIPT_ID     TX_DATE    TX_NO  PRODUCT_ID                PRODUCT  \\\n",
       "0         8289  2017-03-24   166488        1336  Precision Edger Turbo   \n",
       "1         8027  2018-08-04   171721        1075            Leaf Blower   \n",
       "2         7783  2017-07-15   252128        1003         Chubby Grinder   \n",
       "3         7018  2017-09-13   136168        1018           Round Shovel   \n",
       "4         7011  2017-11-11   215199        1204     Premium Lawn Mower   \n",
       "..         ...         ...      ...         ...                    ...   \n",
       "94      804651  2017-03-08   960513        1011     Premium Lawn Mower   \n",
       "95      804092  2018-08-26   991300        1441       Garden Sprinkler   \n",
       "96      803168  2019-05-03   915121        1995        Green Table Saw   \n",
       "97      803142  2018-10-20  1055846        1337                Aerator   \n",
       "98      801996  2018-09-15   935337        1476       Garden Sprinkler   \n",
       "\n",
       "    QUANTITY  ITEM_COST  \n",
       "0          1     214.28  \n",
       "1          1     227.60  \n",
       "2          1     267.30  \n",
       "3          1     220.57  \n",
       "4          1     204.77  \n",
       "..       ...        ...  \n",
       "94         1     241.71  \n",
       "95         1     157.96  \n",
       "96         1     195.17  \n",
       "97         1     200.09  \n",
       "98         1     147.81  \n",
       "\n",
       "[99 rows x 7 columns]"
      ]
     },
     "execution_count": 60,
     "metadata": {},
     "output_type": "execute_result"
    }
   ],
   "source": [
    "%%sql\n",
    "SELECT * FROM EXTERNAL :dumpfile LIKE ASSOC_TRANS USING ( DELIMITER '|' SKIPROWS 1 NOLOG TRUE ) "
   ]
  },
  {
   "cell_type": "markdown",
   "metadata": {},
   "source": [
    "[Back to Top](#top)\n",
    "<a id='function'></a>"
   ]
  },
  {
   "cell_type": "markdown",
   "metadata": {},
   "source": [
    "[![](./media/db2_dte_footer.png)](https://www.ibm.com/demos/collection/db2-database/)\n",
    "<a id=\"top\">"
   ]
  },
  {
   "cell_type": "markdown",
   "metadata": {},
   "source": [
    "#### Credits: IBM 2020, Phil Downey [phil.downey1@ibm.com], George Baklarz [baklarz@ca.ibm.com]"
   ]
  }
 ],
 "metadata": {
  "hide_code_all_hidden": false,
  "kernelspec": {
   "display_name": "Python 3",
   "language": "python",
   "name": "python3"
  },
  "language_info": {
   "codemirror_mode": {
    "name": "ipython",
    "version": 3
   },
   "file_extension": ".py",
   "mimetype": "text/x-python",
   "name": "python",
   "nbconvert_exporter": "python",
   "pygments_lexer": "ipython3",
   "version": "3.7.1"
  }
 },
 "nbformat": 4,
 "nbformat_minor": 2
}
