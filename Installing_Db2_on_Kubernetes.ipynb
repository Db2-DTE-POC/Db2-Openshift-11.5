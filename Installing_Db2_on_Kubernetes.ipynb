{
 "cells": [
  {
   "cell_type": "markdown",
   "metadata": {},
   "source": [
    "# Installing Db2 on Kubernetes\n",
    "\n",
    "This lab will take the user through the steps required to get Db2 running on a Kubernetes cluster. In order to simulate a cluster, a combination of VirtualBox and Minikube are used to allow a single image system to behave as a cluser."
   ]
  },
  {
   "cell_type": "markdown",
   "metadata": {},
   "source": [
    "**Note**: Click on the next cell and press **Shift-Return** to refresh all of the examples in this notebook."
   ]
  },
  {
   "cell_type": "code",
   "execution_count": 1,
   "metadata": {
    "run_control": {}
   },
   "outputs": [
    {
     "data": {
      "application/javascript": [
       "\n",
       "// Scan the entire notebook for cells that have refresh tags and execute them\n",
       "\n",
       "window.findCellIndicesByTag = function findCellIndicesByTag(tagName) {\n",
       "  return (Jupyter.notebook.get_cells()\n",
       "    .filter(\n",
       "      ({metadata: {tags}}) => tags && tags.includes(tagName)\n",
       "    )\n",
       "    .map((cell) => Jupyter.notebook.find_cell_index(cell))\n",
       "  );\n",
       "};\n",
       "\n",
       "window.refresh = function runRefreshCells() {\n",
       "    var c = window.findCellIndicesByTag('refresh');\n",
       "    Jupyter.notebook.execute_cells(c);\n",
       "};\n",
       "\n",
       "\n",
       "// Search for a Markdown cell that contains a comment line with the name of the code we are looking for\n",
       "\n",
       "window.copySearch = function copySearch(id) {\n",
       "    var cells = Jupyter.notebook.get_cells();\n",
       "    for(var i in cells) {\n",
       "        var cell = cells[i];\n",
       "        if (cell['cell_type'] == 'markdown') {\n",
       "            var text = cell.get_text();\n",
       "            var n = text.search(\"<!--\"+id+\"-->\");\n",
       "            if (n != -1) {  \n",
       "                var content = text.replace(/(^<!.*-->.*\\n?)|(```.*\\n?)/g, \"\");\n",
       "                navigator.clipboard.writeText(content);  \n",
       "                return\n",
       "                }\n",
       "        }\n",
       "    }\n",
       "    navigator.clipboard.writeText(\"Cell \" + id + \" not found\"); \n",
       "}\n",
       "\n",
       "// Highlight the background of the current cell and copy the contents onto the clipboard\n",
       "\n",
       "window.clipline = function clipline(codeIndex) {\n",
       "    var cell = document.getElementById(codeIndex);\n",
       "    var code = cell.textContent;\n",
       "    var parent = cell.parentNode;\n",
       "    parent.style.backgroundColor = \"#6699FF\"; // backcolor\n",
       "    navigator.clipboard.writeText(code);\n",
       "}\n",
       "\n",
       "window.reset = function reset(codeIndex) {\n",
       "    var cell = document.getElementById(codeIndex);\n",
       "    var parent = cell.parentNode;\n",
       "    parent.style.backgroundColor = \"#F2F2F2\" // backcolor\n",
       "}"
      ],
      "text/plain": [
       "<IPython.core.display.Javascript object>"
      ]
     },
     "metadata": {},
     "output_type": "display_data"
    },
    {
     "data": {
      "application/javascript": [
       "window.refresh()"
      ],
      "text/plain": [
       "<IPython.core.display.Javascript object>"
      ]
     },
     "metadata": {},
     "output_type": "display_data"
    }
   ],
   "source": [
    "%run refresh.ipynb"
   ]
  },
  {
   "cell_type": "markdown",
   "metadata": {},
   "source": [
    "### How to Copy Code and Examples\n",
    "Throughout this lab there are code samples that need to be copied and modified in a text editor. Any commands that need to be executed from a command line are found in grey boxes (an example is found below) has been designed to be easily copied."
   ]
  },
  {
   "cell_type": "code",
   "execution_count": 30,
   "metadata": {
    "hide_input": true,
    "scrolled": false,
    "tags": [
     "refresh"
    ]
   },
   "outputs": [
    {
     "data": {
      "text/html": [
       "<div style=\"margin-left: 35px; border-style: solid; border-width: 1px; background-color:#F2F2F2; padding: 10px;\" >\n",
       "<pre id=111 onmousedown=\"window.clipline(111)\" onmouseup=\"window.reset(111)\">\n",
       "Sample commands are found in cells like this.\n",
       "</pre>\n",
       "</div>"
      ],
      "text/plain": [
       "<IPython.core.display.HTML object>"
      ]
     },
     "metadata": {},
     "output_type": "display_data"
    }
   ],
   "source": [
    "%%html\n",
    "<div style=\"margin-left: 35px; border-style: solid; border-width: 1px; background-color:#F2F2F2; padding: 10px;\" >\n",
    "<pre id=111 onmousedown=\"window.clipline(111)\" onmouseup=\"window.reset(111)\">\n",
    "Sample commands are found in cells like this.\n",
    "</pre>\n",
    "</div>"
   ]
  },
  {
   "cell_type": "markdown",
   "metadata": {},
   "source": [
    "The entire contents of the text in the cell will be automatically copied when you click on the cell. The color of the background will change color briefly to indicate that the copy has completed. To paste commands into a terminal window, use the key combination **Control-Shift-v**. \n",
    "\n",
    "It may be easier to keep a terminal window on top of the Jupyter notebook when running these commands. When you have a terminal window displayed, right click on the title bar and select `Always on Top` to keep the screen visible during the duration of the lab.\n",
    "<p>\n",
    "<div style=\"border-style: solid; border-color: red; border-width: 3px; padding: 10px;\" >\n",
    "    <b>Note:</b> Open a terminal window to issue all of the <b>minikube</b> and <b>kubectl</b> commands. They will not work within this Jupyter notebook!\n",
    "</div>"
   ]
  },
  {
   "cell_type": "markdown",
   "metadata": {},
   "source": [
    "### Start Minikube\n",
    "Minikube is a single node Kubernetes cluster. The Start command when run for the first time will create a single node cluster applying configuration parameters passed to it such as CPU memory amongst other parameters."
   ]
  },
  {
   "cell_type": "code",
   "execution_count": 3,
   "metadata": {
    "hide_input": true,
    "scrolled": true,
    "tags": [
     "refresh"
    ]
   },
   "outputs": [
    {
     "data": {
      "text/html": [
       "<div style=\"margin-left: 35px; border-style: solid; border-width: 1px; background-color:#F2F2F2; padding: 10px;\" >\n",
       "<pre id=1 onmousedown=\"window.clipline(1)\" onmouseup=\"window.reset(1)\">\n",
       "minikube start --cpus=4 --memory='12g'\n",
       "</pre>\n",
       "</div>"
      ],
      "text/plain": [
       "<IPython.core.display.HTML object>"
      ]
     },
     "metadata": {},
     "output_type": "display_data"
    }
   ],
   "source": [
    "%%html\n",
    "<div style=\"margin-left: 35px; border-style: solid; border-width: 1px; background-color:#F2F2F2; padding: 10px;\" >\n",
    "<pre id=1 onmousedown=\"window.clipline(1)\" onmouseup=\"window.reset(1)\">\n",
    "minikube start --cpus=4 --memory='12g'\n",
    "</pre>\n",
    "</div>"
   ]
  },
  {
   "cell_type": "markdown",
   "metadata": {},
   "source": [
    "### Initialize Helm\n",
    "Helm does package management for your Kubernetes cluster. When initialising an environment for Helm it sets ups a Tiller service on your Kubernertes cluster and prepares the environment for accepting application packages. Tiller is its enabling service on Kubernetes."
   ]
  },
  {
   "cell_type": "code",
   "execution_count": 4,
   "metadata": {
    "hide_input": true,
    "scrolled": true,
    "tags": [
     "refresh"
    ]
   },
   "outputs": [
    {
     "data": {
      "text/html": [
       "<div style=\"margin-left: 35px; border-style: solid; border-width: 1px; background-color:#F2F2F2; padding: 10px;\" >\n",
       "<pre id=2 onmousedown=\"window.clipline(2)\" onmouseup=\"window.reset(2)\">\n",
       "helm init\n",
       "</pre>\n",
       "</div>"
      ],
      "text/plain": [
       "<IPython.core.display.HTML object>"
      ]
     },
     "metadata": {},
     "output_type": "display_data"
    }
   ],
   "source": [
    "%%html\n",
    "<div style=\"margin-left: 35px; border-style: solid; border-width: 1px; background-color:#F2F2F2; padding: 10px;\" >\n",
    "<pre id=2 onmousedown=\"window.clipline(2)\" onmouseup=\"window.reset(2)\">\n",
    "helm init\n",
    "</pre>\n",
    "</div>"
   ]
  },
  {
   "cell_type": "markdown",
   "metadata": {},
   "source": [
    "### Unpack the Db2 Installation Files\n",
    "These files are required to set up security profiles for the cartridge that is being installed."
   ]
  },
  {
   "cell_type": "code",
   "execution_count": 5,
   "metadata": {
    "hide_input": true,
    "tags": [
     "refresh"
    ]
   },
   "outputs": [
    {
     "data": {
      "text/html": [
       "<div style=\"margin-left: 35px; border-style: solid; border-width: 1px; background-color:#F2F2F2; padding: 10px;\" >\n",
       "<pre id=3 onmousedown=\"window.clipline(3)\" onmouseup=\"window.reset(3)\">\n",
       "cd ~/notebooks/extras\n",
       "unzip db2kube.zip\n",
       "</pre>\n",
       "</div>"
      ],
      "text/plain": [
       "<IPython.core.display.HTML object>"
      ]
     },
     "metadata": {},
     "output_type": "display_data"
    }
   ],
   "source": [
    "%%html\n",
    "<div style=\"margin-left: 35px; border-style: solid; border-width: 1px; background-color:#F2F2F2; padding: 10px;\" >\n",
    "<pre id=3 onmousedown=\"window.clipline(3)\" onmouseup=\"window.reset(3)\">\n",
    "cd ~/notebooks/extras\n",
    "unzip db2kube.zip\n",
    "</pre>\n",
    "</div>"
   ]
  },
  {
   "cell_type": "markdown",
   "metadata": {},
   "source": [
    "### Create a Persistent Volume for Db2 to Use\n",
    "Inherently, Kubernetes supports stateless applications, however with a database like Db2 we want any data written to persist past the life of a container. To do so we create a Persistent volume for our database to reside in so that whether containers are refreshed due to failover, resizing or upgrading the database itself persists."
   ]
  },
  {
   "cell_type": "code",
   "execution_count": 6,
   "metadata": {
    "hide_input": true,
    "scrolled": true,
    "tags": [
     "refresh"
    ]
   },
   "outputs": [
    {
     "data": {
      "text/html": [
       "<div style=\"margin-left: 35px; border-style: solid; border-width: 1px; background-color:#F2F2F2; padding: 10px;\" >\n",
       "<pre id=4 onmousedown=\"window.clipline(4)\" onmouseup=\"window.reset(4)\">\n",
       "kubectl apply -f db2pvc.yaml\n",
       "</pre>\n",
       "</div>"
      ],
      "text/plain": [
       "<IPython.core.display.HTML object>"
      ]
     },
     "metadata": {},
     "output_type": "display_data"
    }
   ],
   "source": [
    "%%html\n",
    "<div style=\"margin-left: 35px; border-style: solid; border-width: 1px; background-color:#F2F2F2; padding: 10px;\" >\n",
    "<pre id=4 onmousedown=\"window.clipline(4)\" onmouseup=\"window.reset(4)\">\n",
    "kubectl apply -f db2pvc.yaml\n",
    "</pre>\n",
    "</div>"
   ]
  },
  {
   "cell_type": "markdown",
   "metadata": {},
   "source": [
    "The `kubectl get pvc` command will give us a list of all persistent volumnes that have been created. The Db2 volume should be there."
   ]
  },
  {
   "cell_type": "code",
   "execution_count": 7,
   "metadata": {
    "hide_input": true,
    "scrolled": true,
    "tags": [
     "refresh"
    ]
   },
   "outputs": [
    {
     "data": {
      "text/html": [
       "<div style=\"margin-left: 35px; border-style: solid; border-width: 1px; background-color:#F2F2F2; padding: 10px;\" >\n",
       "<pre id=4.1 onmousedown=\"window.clipline(4.1)\" onmouseup=\"window.reset(4.1)\">\n",
       "kubectl get pvc\n",
       "</pre>\n",
       "</div>"
      ],
      "text/plain": [
       "<IPython.core.display.HTML object>"
      ]
     },
     "metadata": {},
     "output_type": "display_data"
    }
   ],
   "source": [
    "%%html\n",
    "<div style=\"margin-left: 35px; border-style: solid; border-width: 1px; background-color:#F2F2F2; padding: 10px;\" >\n",
    "<pre id=4.1 onmousedown=\"window.clipline(4.1)\" onmouseup=\"window.reset(4.1)\">\n",
    "kubectl get pvc\n",
    "</pre>\n",
    "</div>"
   ]
  },
  {
   "cell_type": "markdown",
   "metadata": {},
   "source": [
    "### Setup the Cluster Administration\n",
    "Setup the cluster security and admin pre-reqs  n the cluster to deploy the Db2 installation."
   ]
  },
  {
   "cell_type": "code",
   "execution_count": 8,
   "metadata": {
    "hide_input": true,
    "scrolled": true,
    "tags": [
     "refresh"
    ]
   },
   "outputs": [
    {
     "data": {
      "text/html": [
       "<div style=\"margin-left: 35px; border-style: solid; border-width: 1px; background-color:#F2F2F2; padding: 10px;\" >\n",
       "<pre id=5 onmousedown=\"window.clipline(5)\" onmouseup=\"window.reset(5)\">\n",
       "cd ~/notebooks/extras/clusterAdministration\n",
       "./createSecurityClusterPrereqs.sh\n",
       "</pre>\n",
       "</div>"
      ],
      "text/plain": [
       "<IPython.core.display.HTML object>"
      ]
     },
     "metadata": {},
     "output_type": "display_data"
    }
   ],
   "source": [
    "%%html\n",
    "<div style=\"margin-left: 35px; border-style: solid; border-width: 1px; background-color:#F2F2F2; padding: 10px;\" >\n",
    "<pre id=5 onmousedown=\"window.clipline(5)\" onmouseup=\"window.reset(5)\">\n",
    "cd ~/notebooks/extras/clusterAdministration\n",
    "./createSecurityClusterPrereqs.sh\n",
    "</pre>\n",
    "</div>"
   ]
  },
  {
   "cell_type": "markdown",
   "metadata": {
    "hide_input": true
   },
   "source": [
    "### Setup the Namespace Security\n",
    "Apply the required security pre requisites for Db2 on the default Namespace so that Db2 can install."
   ]
  },
  {
   "cell_type": "code",
   "execution_count": 9,
   "metadata": {
    "hide_input": true,
    "scrolled": false,
    "tags": [
     "refresh"
    ]
   },
   "outputs": [
    {
     "data": {
      "text/html": [
       "<div style=\"margin-left: 35px; border-style: solid; border-width: 1px; background-color:#F2F2F2; padding: 10px;\" >\n",
       "<pre id=6 onmousedown=\"window.clipline(6)\" onmouseup=\"window.reset(6)\">\n",
       "cd ~/notebooks/extras/namespaceAdministration\n",
       "./createSecurityNamespacePrereqs.sh default\n",
       "</pre>\n",
       "</div>"
      ],
      "text/plain": [
       "<IPython.core.display.HTML object>"
      ]
     },
     "metadata": {},
     "output_type": "display_data"
    }
   ],
   "source": [
    "%%html\n",
    "<div style=\"margin-left: 35px; border-style: solid; border-width: 1px; background-color:#F2F2F2; padding: 10px;\" >\n",
    "<pre id=6 onmousedown=\"window.clipline(6)\" onmouseup=\"window.reset(6)\">\n",
    "cd ~/notebooks/extras/namespaceAdministration\n",
    "./createSecurityNamespacePrereqs.sh default\n",
    "</pre>\n",
    "</div>"
   ]
  },
  {
   "cell_type": "markdown",
   "metadata": {},
   "source": [
    "### Apply Db2 Roles\n",
    "Apply the required Db2 roles to the cluster in preparation for the installation."
   ]
  },
  {
   "cell_type": "code",
   "execution_count": 10,
   "metadata": {
    "hide_input": true,
    "scrolled": false,
    "tags": [
     "refresh"
    ]
   },
   "outputs": [
    {
     "data": {
      "text/html": [
       "<div style=\"margin-left: 35px; border-style: solid; border-width: 1px; background-color:#F2F2F2; padding: 10px;\" >\n",
       "<pre id=7 onmousedown=\"window.clipline(7)\" onmouseup=\"window.reset(7)\">\n",
       "cd ~/notebooks/extras/deployment/adm\n",
       "kubectl apply -f db2u-sa.yaml\n",
       "kubectl apply -f db2u-role.yaml\n",
       "kubectl apply -f db2u-rolebinding.yaml\n",
       "</pre>\n",
       "</div>"
      ],
      "text/plain": [
       "<IPython.core.display.HTML object>"
      ]
     },
     "metadata": {},
     "output_type": "display_data"
    }
   ],
   "source": [
    "%%html\n",
    "<div style=\"margin-left: 35px; border-style: solid; border-width: 1px; background-color:#F2F2F2; padding: 10px;\" >\n",
    "<pre id=7 onmousedown=\"window.clipline(7)\" onmouseup=\"window.reset(7)\">\n",
    "cd ~/notebooks/extras/deployment/adm\n",
    "kubectl apply -f db2u-sa.yaml\n",
    "kubectl apply -f db2u-role.yaml\n",
    "kubectl apply -f db2u-rolebinding.yaml\n",
    "</pre>\n",
    "</div>"
   ]
  },
  {
   "cell_type": "markdown",
   "metadata": {},
   "source": [
    "### Start the Db2 Installation\n",
    "The script will ask you to review the legal disclaimer and license agreement. You can answer **q** to avoid reading the text and then type **y** to accept the license agreement. After you complete this step the installation will begin."
   ]
  },
  {
   "cell_type": "code",
   "execution_count": 11,
   "metadata": {
    "hide_input": true,
    "scrolled": true,
    "tags": [
     "refresh"
    ]
   },
   "outputs": [
    {
     "data": {
      "text/html": [
       "<div style=\"margin-left: 35px; border-style: solid; border-width: 1px; background-color:#F2F2F2; padding: 10px;\" >\n",
       "<pre id=8 onmousedown=\"window.clipline(8)\" onmouseup=\"window.reset(8)\">\n",
       "cd ~/notebooks/extras/deployment\n",
       "./db2u-install --db-type db2oltp \\\n",
       "               --namespace default \\\n",
       "               --release-name db2u \\\n",
       "               --existing-pvc db2claim \\\n",
       "               --cpu-size 2 \\\n",
       "               --memory-size 3Gi\n",
       "</pre>\n",
       "</div>"
      ],
      "text/plain": [
       "<IPython.core.display.HTML object>"
      ]
     },
     "metadata": {},
     "output_type": "display_data"
    }
   ],
   "source": [
    "%%html\n",
    "<div style=\"margin-left: 35px; border-style: solid; border-width: 1px; background-color:#F2F2F2; padding: 10px;\" >\n",
    "<pre id=8 onmousedown=\"window.clipline(8)\" onmouseup=\"window.reset(8)\">\n",
    "cd ~/notebooks/extras/deployment\n",
    "./db2u-install --db-type db2oltp \\\n",
    "               --namespace default \\\n",
    "               --release-name db2u \\\n",
    "               --existing-pvc db2claim \\\n",
    "               --cpu-size 2 \\\n",
    "               --memory-size 3Gi\n",
    "</pre>\n",
    "</div>"
   ]
  },
  {
   "cell_type": "markdown",
   "metadata": {
    "hide_input": true
   },
   "source": [
    "### Check the Pod Status\n",
    "Using Kubectl we can track the progress of the Db2 installation with the command below. \"Jobs\" will show complete once they have successfully performed their operation while services will show they are running when completed."
   ]
  },
  {
   "cell_type": "code",
   "execution_count": 12,
   "metadata": {
    "hide_input": true,
    "scrolled": true,
    "tags": [
     "refresh"
    ]
   },
   "outputs": [
    {
     "data": {
      "text/html": [
       "<div style=\"margin-left: 35px; border-style: solid; border-width: 1px; background-color:#F2F2F2; padding: 10px;\" >\n",
       "<pre id=9 onmousedown=\"window.clipline(9)\" onmouseup=\"window.reset(9)\">\n",
       "kubectl get pods\n",
       "</pre>\n",
       "</div>"
      ],
      "text/plain": [
       "<IPython.core.display.HTML object>"
      ]
     },
     "metadata": {},
     "output_type": "display_data"
    }
   ],
   "source": [
    "%%html\n",
    "<div style=\"margin-left: 35px; border-style: solid; border-width: 1px; background-color:#F2F2F2; padding: 10px;\" >\n",
    "<pre id=9 onmousedown=\"window.clipline(9)\" onmouseup=\"window.reset(9)\">\n",
    "kubectl get pods\n",
    "</pre>\n",
    "</div>"
   ]
  },
  {
   "cell_type": "markdown",
   "metadata": {},
   "source": [
    "You have the option of telling the `get pods` command to refresh the information on the screen without have to issue the command repeatedly."
   ]
  },
  {
   "cell_type": "code",
   "execution_count": 13,
   "metadata": {
    "hide_input": true,
    "scrolled": false,
    "tags": [
     "refresh"
    ]
   },
   "outputs": [
    {
     "data": {
      "text/html": [
       "<div style=\"margin-left: 35px; border-style: solid; border-width: 1px; background-color:#F2F2F2; padding: 10px;\" >\n",
       "<pre id=9.1 onmousedown=\"window.clipline(9.1)\" onmouseup=\"window.reset(9.1)\">\n",
       "kubectl get pods -w\n",
       "</pre>\n",
       "</div>"
      ],
      "text/plain": [
       "<IPython.core.display.HTML object>"
      ]
     },
     "metadata": {},
     "output_type": "display_data"
    }
   ],
   "source": [
    "%%html\n",
    "<div style=\"margin-left: 35px; border-style: solid; border-width: 1px; background-color:#F2F2F2; padding: 10px;\" >\n",
    "<pre id=9.1 onmousedown=\"window.clipline(9.1)\" onmouseup=\"window.reset(9.1)\">\n",
    "kubectl get pods -w\n",
    "</pre>\n",
    "</div>"
   ]
  },
  {
   "cell_type": "markdown",
   "metadata": {},
   "source": [
    "Note that the Db2 pod will not allow connections until the **READY** column shows **1/1**.\n",
    "```\n",
    "NAME                                READY   STATUS      RESTARTS   AGE\n",
    "db2u-db2u-0                         1/1     Running     0          32m\n",
    "db2u-db2u-ldap-5848d9c7f7-qnkmq     1/1     Running     0          32m\n",
    "db2u-db2u-nodes-cfg-job-flvgj       0/1     Completed   0          32m\n",
    "db2u-db2u-restore-morph-job-ppt4h   0/1     Completed   0          32m\n",
    "db2u-db2u-sqllib-shared-job-k75hm   0/1     Completed   0          32m\n",
    "db2u-db2u-tools-7b6644946d-cvgbq    1/1     Running     0          32m\n",
    "db2u-etcd-0                         1/1     Running     0          32m\n",
    "```"
   ]
  },
  {
   "cell_type": "markdown",
   "metadata": {},
   "source": [
    "### Describe the Pods to see Status\n",
    "By running the Describe command we can view a log of current state and historical events for the pod. Run the command and browse through the output."
   ]
  },
  {
   "cell_type": "code",
   "execution_count": 14,
   "metadata": {
    "hide_input": true,
    "scrolled": false,
    "tags": [
     "refresh"
    ]
   },
   "outputs": [
    {
     "data": {
      "text/html": [
       "<div style=\"margin-left: 35px; border-style: solid; border-width: 1px; background-color:#F2F2F2; padding: 10px;\" >\n",
       "<pre id=9.2 onmousedown=\"window.clipline(9.2)\" onmouseup=\"window.reset(9.2)\">\n",
       "kubectl describe pod db2u-db2u-0 \n",
       "</pre>\n",
       "</div>"
      ],
      "text/plain": [
       "<IPython.core.display.HTML object>"
      ]
     },
     "metadata": {},
     "output_type": "display_data"
    }
   ],
   "source": [
    "%%html\n",
    "<div style=\"margin-left: 35px; border-style: solid; border-width: 1px; background-color:#F2F2F2; padding: 10px;\" >\n",
    "<pre id=9.2 onmousedown=\"window.clipline(9.2)\" onmouseup=\"window.reset(9.2)\">\n",
    "kubectl describe pod db2u-db2u-0 \n",
    "</pre>\n",
    "</div>"
   ]
  },
  {
   "cell_type": "markdown",
   "metadata": {},
   "source": [
    "### Get the Service Accounts\n",
    "List the service accounts that services run under on your cluster."
   ]
  },
  {
   "cell_type": "code",
   "execution_count": 15,
   "metadata": {
    "hide_input": true,
    "scrolled": true,
    "tags": [
     "refresh"
    ]
   },
   "outputs": [
    {
     "data": {
      "text/html": [
       "<div style=\"margin-left: 35px; border-style: solid; border-width: 1px; background-color:#F2F2F2; padding: 10px;\" >\n",
       "<pre id=10 onmousedown=\"window.clipline(10)\" onmouseup=\"window.reset(10)\">\n",
       "kubectl get serviceaccounts\n",
       "</pre>\n",
       "</div>"
      ],
      "text/plain": [
       "<IPython.core.display.HTML object>"
      ]
     },
     "metadata": {},
     "output_type": "display_data"
    }
   ],
   "source": [
    "%%html\n",
    "<div style=\"margin-left: 35px; border-style: solid; border-width: 1px; background-color:#F2F2F2; padding: 10px;\" >\n",
    "<pre id=10 onmousedown=\"window.clipline(10)\" onmouseup=\"window.reset(10)\">\n",
    "kubectl get serviceaccounts\n",
    "</pre>\n",
    "</div>"
   ]
  },
  {
   "cell_type": "markdown",
   "metadata": {},
   "source": [
    "### Get the Services\n",
    "You should see the Db2 service with a mapping of 50000 to another port."
   ]
  },
  {
   "cell_type": "code",
   "execution_count": 16,
   "metadata": {
    "hide_input": true,
    "scrolled": true,
    "tags": [
     "refresh"
    ]
   },
   "outputs": [
    {
     "data": {
      "text/html": [
       "<div style=\"margin-left: 35px; border-style: solid; border-width: 1px; background-color:#F2F2F2; padding: 10px;\" >\n",
       "<pre id=11 onmousedown=\"window.clipline(11)\" onmouseup=\"window.reset(11)\">\n",
       "kubectl get services\n",
       "</pre>\n",
       "</div>"
      ],
      "text/plain": [
       "<IPython.core.display.HTML object>"
      ]
     },
     "metadata": {},
     "output_type": "display_data"
    }
   ],
   "source": [
    "%%html\n",
    "<div style=\"margin-left: 35px; border-style: solid; border-width: 1px; background-color:#F2F2F2; padding: 10px;\" >\n",
    "<pre id=11 onmousedown=\"window.clipline(11)\" onmouseup=\"window.reset(11)\">\n",
    "kubectl get services\n",
    "</pre>\n",
    "</div>"
   ]
  },
  {
   "cell_type": "markdown",
   "metadata": {},
   "source": [
    "You can also get the service information from Minikube."
   ]
  },
  {
   "cell_type": "code",
   "execution_count": 17,
   "metadata": {
    "hide_input": true,
    "scrolled": true,
    "tags": [
     "refresh"
    ]
   },
   "outputs": [
    {
     "data": {
      "text/html": [
       "<div style=\"margin-left: 35px; border-style: solid; border-width: 1px; background-color:#F2F2F2; padding: 10px;\" >\n",
       "<pre id=12 onmousedown=\"window.clipline(12)\" onmouseup=\"window.reset(12)\">\n",
       "minikube service list\n",
       "</pre>\n",
       "</div>"
      ],
      "text/plain": [
       "<IPython.core.display.HTML object>"
      ]
     },
     "metadata": {},
     "output_type": "display_data"
    }
   ],
   "source": [
    "%%html\n",
    "<div style=\"margin-left: 35px; border-style: solid; border-width: 1px; background-color:#F2F2F2; padding: 10px;\" >\n",
    "<pre id=12 onmousedown=\"window.clipline(12)\" onmouseup=\"window.reset(12)\">\n",
    "minikube service list\n",
    "</pre>\n",
    "</div>"
   ]
  },
  {
   "cell_type": "markdown",
   "metadata": {},
   "source": [
    "In addition you can get the service information and the external URL for Db2."
   ]
  },
  {
   "cell_type": "code",
   "execution_count": 18,
   "metadata": {
    "hide_input": true,
    "scrolled": true,
    "tags": [
     "refresh"
    ]
   },
   "outputs": [
    {
     "data": {
      "text/html": [
       "<div style=\"margin-left: 35px; border-style: solid; border-width: 1px; background-color:#F2F2F2; padding: 10px;\" >\n",
       "<pre id=13 onmousedown=\"window.clipline(13)\" onmouseup=\"window.reset(13)\">\n",
       "minikube service db2u-db2u-engn-svc --url\n",
       "</pre>\n",
       "</div>"
      ],
      "text/plain": [
       "<IPython.core.display.HTML object>"
      ]
     },
     "metadata": {},
     "output_type": "display_data"
    }
   ],
   "source": [
    "%%html\n",
    "<div style=\"margin-left: 35px; border-style: solid; border-width: 1px; background-color:#F2F2F2; padding: 10px;\" >\n",
    "<pre id=13 onmousedown=\"window.clipline(13)\" onmouseup=\"window.reset(13)\">\n",
    "minikube service db2u-db2u-engn-svc --url\n",
    "</pre>\n",
    "</div>"
   ]
  },
  {
   "cell_type": "markdown",
   "metadata": {},
   "source": [
    "### Checking Db2 is Running\n",
    "In this notebook you will test the connection to Db2 by using Db2 Magic commands. The first line that is required is the `%run` command."
   ]
  },
  {
   "cell_type": "code",
   "execution_count": 2,
   "metadata": {},
   "outputs": [
    {
     "name": "stdout",
     "output_type": "stream",
     "text": [
      "Db2 Extensions Loaded.\n"
     ]
    }
   ],
   "source": [
    "%run db2.ipynb"
   ]
  },
  {
   "cell_type": "markdown",
   "metadata": {},
   "source": [
    "Next you need to connect to the Db2 database. The information that was returned by the previous minkube command will give you the IP address and port for Db2 in the cluster.\n",
    "<p>\n",
    "<div style=\"border-style: solid; border-color: red; border-width: 3px; padding: 10px;\" >\n",
    "    <b>Note:</b> You need to make sure the IP address and PORT are updated below to the values displayed in the previous section.\n",
    "</div>"
   ]
  },
  {
   "cell_type": "code",
   "execution_count": 4,
   "metadata": {},
   "outputs": [
    {
     "name": "stdout",
     "output_type": "stream",
     "text": [
      "Connection successful.\n"
     ]
    }
   ],
   "source": [
    "%sql connect to bludb user db2inst1 using db2inst1 host 192.168.154.132 port 31020"
   ]
  },
  {
   "cell_type": "markdown",
   "metadata": {},
   "source": [
    "If the connection is not successful, it may be due to Db2 not having started completely. You may need to wait for a few minutes for Db2 to start accepting connections. Once you do have a connection, you need to add some sample data to the database. The BLUDB database does not have the sample tables in it, so issue the following command to populate the EMPLOYEE and DEPARTMENT tables."
   ]
  },
  {
   "cell_type": "code",
   "execution_count": 5,
   "metadata": {},
   "outputs": [
    {
     "name": "stdout",
     "output_type": "stream",
     "text": [
      "Sample tables [EMPLOYEE, DEPARTMENT] created.\n"
     ]
    }
   ],
   "source": [
    "%sql -sampledata"
   ]
  },
  {
   "cell_type": "markdown",
   "metadata": {},
   "source": [
    "At this point you can try various SQL commands since we have established a connection to Db2."
   ]
  },
  {
   "cell_type": "code",
   "execution_count": 6,
   "metadata": {},
   "outputs": [
    {
     "data": {
      "application/vnd.jupyter.widget-view+json": {
       "model_id": "ce93a64d2e2442f29564914727c134ff",
       "version_major": 2,
       "version_minor": 0
      },
      "text/plain": [
       "QgridWidget(grid_options={'fullWidthRows': True, 'syncColumnCellResize': True, 'forceFitColumns': False, 'defa…"
      ]
     },
     "metadata": {},
     "output_type": "display_data"
    }
   ],
   "source": [
    "%sql -grid SELECT * FROM EMPLOYEE"
   ]
  },
  {
   "cell_type": "code",
   "execution_count": 7,
   "metadata": {},
   "outputs": [
    {
     "data": {
      "image/png": "[encoded data removed]",
      "text/plain": [
       "<Figure size 432x288 with 1 Axes>"
      ]
     },
     "metadata": {
      "needs_background": "light"
     },
     "output_type": "display_data"
    }
   ],
   "source": [
    "%sql -bar SELECT WORKDEPT, AVG(SALARY) FROM EMPLOYEE GROUP BY WORKDEPT"
   ]
  },
  {
   "cell_type": "markdown",
   "metadata": {},
   "source": [
    "### Monitoring Activities\n",
    "You can get an overview of the activities within the cluster by using the Minikube dashboard."
   ]
  },
  {
   "cell_type": "code",
   "execution_count": 19,
   "metadata": {
    "hide_input": true,
    "scrolled": true,
    "tags": [
     "refresh"
    ]
   },
   "outputs": [
    {
     "data": {
      "text/html": [
       "<div style=\"margin-left: 35px; border-style: solid; border-width: 1px; background-color:#F2F2F2; padding: 10px;\" >\n",
       "<pre id=47 onmousedown=\"window.clipline(47)\" onmouseup=\"window.reset(47)\">\n",
       "minikube dashboard\n",
       "</pre>\n",
       "</div>"
      ],
      "text/plain": [
       "<IPython.core.display.HTML object>"
      ]
     },
     "metadata": {},
     "output_type": "display_data"
    }
   ],
   "source": [
    "%%html\n",
    "<div style=\"margin-left: 35px; border-style: solid; border-width: 1px; background-color:#F2F2F2; padding: 10px;\" >\n",
    "<pre id=47 onmousedown=\"window.clipline(47)\" onmouseup=\"window.reset(47)\">\n",
    "minikube dashboard\n",
    "</pre>\n",
    "</div>"
   ]
  },
  {
   "cell_type": "markdown",
   "metadata": {},
   "source": [
    "### Simulating a Db2 Crash\n",
    "You can simulate a crash in Kubernetes by deleting the Db2 pod. When you kill the pod, Kubernetes will restart the pod automatically for you. The first command will delete the Db2 pod, while the next command will watch the systems as the pod is dropped and recreated. To watch this process work, issue the first command in one command window and the second in another. "
   ]
  },
  {
   "cell_type": "code",
   "execution_count": 20,
   "metadata": {
    "hide_input": true,
    "scrolled": false,
    "tags": [
     "refresh"
    ]
   },
   "outputs": [
    {
     "data": {
      "text/html": [
       "<div style=\"margin-left: 35px; border-style: solid; border-width: 1px; background-color:#F2F2F2; padding: 10px;\" >\n",
       "<pre id=47.1 onmousedown=\"window.clipline(47.1)\" onmouseup=\"window.reset(47.1)\">\n",
       "kubectl delete pods db2u-db2u-0\n",
       "</pre>\n",
       "</div>"
      ],
      "text/plain": [
       "<IPython.core.display.HTML object>"
      ]
     },
     "metadata": {},
     "output_type": "display_data"
    }
   ],
   "source": [
    "%%html\n",
    "<div style=\"margin-left: 35px; border-style: solid; border-width: 1px; background-color:#F2F2F2; padding: 10px;\" >\n",
    "<pre id=47.1 onmousedown=\"window.clipline(47.1)\" onmouseup=\"window.reset(47.1)\">\n",
    "kubectl delete pods db2u-db2u-0\n",
    "</pre>\n",
    "</div>"
   ]
  },
  {
   "cell_type": "markdown",
   "metadata": {},
   "source": [
    "Run the following command in the second window to watch the recovery occur."
   ]
  },
  {
   "cell_type": "code",
   "execution_count": 21,
   "metadata": {
    "hide_input": true,
    "scrolled": true,
    "tags": [
     "refresh"
    ]
   },
   "outputs": [
    {
     "data": {
      "text/html": [
       "<div style=\"margin-left: 35px; border-style: solid; border-width: 1px; background-color:#F2F2F2; padding: 10px;\" >\n",
       "<pre id=47.2 onmousedown=\"window.clipline(47.2)\" onmouseup=\"window.reset(47.2)\">\n",
       "kubectl get pods -w\n",
       "</pre>\n",
       "</div>"
      ],
      "text/plain": [
       "<IPython.core.display.HTML object>"
      ]
     },
     "metadata": {},
     "output_type": "display_data"
    }
   ],
   "source": [
    "%%html\n",
    "<div style=\"margin-left: 35px; border-style: solid; border-width: 1px; background-color:#F2F2F2; padding: 10px;\" >\n",
    "<pre id=47.2 onmousedown=\"window.clipline(47.2)\" onmouseup=\"window.reset(47.2)\">\n",
    "kubectl get pods -w\n",
    "</pre>\n",
    "</div>"
   ]
  },
  {
   "cell_type": "markdown",
   "metadata": {},
   "source": [
    "Keep this status window so you can watch the delete step in the next section."
   ]
  },
  {
   "cell_type": "markdown",
   "metadata": {},
   "source": [
    "### Delete Db2 Pods\n",
    "We can delete the Db2 pods by using Helm. This will properly remove Db2 since you can see that just deleting the pod will not work!"
   ]
  },
  {
   "cell_type": "code",
   "execution_count": 22,
   "metadata": {
    "hide_input": true,
    "scrolled": true,
    "tags": [
     "refresh"
    ]
   },
   "outputs": [
    {
     "data": {
      "text/html": [
       "<div style=\"margin-left: 35px; border-style: solid; border-width: 1px; background-color:#F2F2F2; padding: 10px;\" >\n",
       "<pre id=47.5 onmousedown=\"window.clipline(47.5)\" onmouseup=\"window.reset(47.5)\">\n",
       "helm delete db2u --purge\n",
       "</pre>\n",
       "</div>"
      ],
      "text/plain": [
       "<IPython.core.display.HTML object>"
      ]
     },
     "metadata": {},
     "output_type": "display_data"
    }
   ],
   "source": [
    "%%html\n",
    "<div style=\"margin-left: 35px; border-style: solid; border-width: 1px; background-color:#F2F2F2; padding: 10px;\" >\n",
    "<pre id=47.5 onmousedown=\"window.clipline(47.5)\" onmouseup=\"window.reset(47.5)\">\n",
    "helm delete db2u --purge\n",
    "</pre>\n",
    "</div>"
   ]
  },
  {
   "cell_type": "markdown",
   "metadata": {},
   "source": [
    "Check on the status of the purge."
   ]
  },
  {
   "cell_type": "code",
   "execution_count": 23,
   "metadata": {
    "hide_input": true,
    "scrolled": true,
    "tags": [
     "refresh"
    ]
   },
   "outputs": [
    {
     "data": {
      "text/html": [
       "<div style=\"margin-left: 35px; border-style: solid; border-width: 1px; background-color:#F2F2F2; padding: 10px;\" >\n",
       "<pre id=50 onmousedown=\"window.clipline(50)\" onmouseup=\"window.reset(50)\">\n",
       "kubectl get pods\n",
       "</pre>\n",
       "</div>"
      ],
      "text/plain": [
       "<IPython.core.display.HTML object>"
      ]
     },
     "metadata": {},
     "output_type": "display_data"
    }
   ],
   "source": [
    "%%html\n",
    "<div style=\"margin-left: 35px; border-style: solid; border-width: 1px; background-color:#F2F2F2; padding: 10px;\" >\n",
    "<pre id=50 onmousedown=\"window.clipline(50)\" onmouseup=\"window.reset(50)\">\n",
    "kubectl get pods\n",
    "</pre>\n",
    "</div>"
   ]
  },
  {
   "cell_type": "markdown",
   "metadata": {},
   "source": [
    "### SSH into Minikube and Check Docker Status\n",
    "Now that Db2 has been stopped and purged, we can look into the Docker environment that Minikube is running. The `ssh` command is used to shell into the Minikube environment."
   ]
  },
  {
   "cell_type": "code",
   "execution_count": 24,
   "metadata": {
    "hide_input": true,
    "scrolled": true,
    "tags": [
     "refresh"
    ]
   },
   "outputs": [
    {
     "data": {
      "text/html": [
       "<div style=\"margin-left: 35px; border-style: solid; border-width: 1px; background-color:#F2F2F2; padding: 10px;\" >\n",
       "<pre id=60 onmousedown=\"window.clipline(60)\" onmouseup=\"window.reset(60)\">\n",
       "minikube ssh \n",
       "</pre>\n",
       "</div>"
      ],
      "text/plain": [
       "<IPython.core.display.HTML object>"
      ]
     },
     "metadata": {},
     "output_type": "display_data"
    }
   ],
   "source": [
    "%%html\n",
    "<div style=\"margin-left: 35px; border-style: solid; border-width: 1px; background-color:#F2F2F2; padding: 10px;\" >\n",
    "<pre id=60 onmousedown=\"window.clipline(60)\" onmouseup=\"window.reset(60)\">\n",
    "minikube ssh \n",
    "</pre>\n",
    "</div>"
   ]
  },
  {
   "cell_type": "markdown",
   "metadata": {},
   "source": [
    "We can now use Docker commands to list the containers in the system."
   ]
  },
  {
   "cell_type": "code",
   "execution_count": 25,
   "metadata": {
    "hide_input": true,
    "scrolled": true,
    "tags": [
     "refresh"
    ]
   },
   "outputs": [
    {
     "data": {
      "text/html": [
       "<div style=\"margin-left: 35px; border-style: solid; border-width: 1px; background-color:#F2F2F2; padding: 10px;\" >\n",
       "<pre id=61 onmousedown=\"window.clipline(61)\" onmouseup=\"window.reset(61)\">\n",
       "docker container list\n",
       "</pre>\n",
       "</div>"
      ],
      "text/plain": [
       "<IPython.core.display.HTML object>"
      ]
     },
     "metadata": {},
     "output_type": "display_data"
    }
   ],
   "source": [
    "%%html\n",
    "<div style=\"margin-left: 35px; border-style: solid; border-width: 1px; background-color:#F2F2F2; padding: 10px;\" >\n",
    "<pre id=61 onmousedown=\"window.clipline(61)\" onmouseup=\"window.reset(61)\">\n",
    "docker container list\n",
    "</pre>\n",
    "</div>"
   ]
  },
  {
   "cell_type": "markdown",
   "metadata": {},
   "source": [
    "Llist all of the images in the system. Db2 should still be there. The Helm purge command removes the pods, but not any of the Docker images or persistent volumes."
   ]
  },
  {
   "cell_type": "code",
   "execution_count": 26,
   "metadata": {
    "hide_input": true,
    "scrolled": true,
    "tags": [
     "refresh"
    ]
   },
   "outputs": [
    {
     "data": {
      "text/html": [
       "<div style=\"margin-left: 35px; border-style: solid; border-width: 1px; background-color:#F2F2F2; padding: 10px;\" >\n",
       "<pre id=62 onmousedown=\"window.clipline(62)\" onmouseup=\"window.reset(62)\">\n",
       "docker image list -a\n",
       "</pre>\n",
       "</div>"
      ],
      "text/plain": [
       "<IPython.core.display.HTML object>"
      ]
     },
     "metadata": {},
     "output_type": "display_data"
    }
   ],
   "source": [
    "%%html\n",
    "<div style=\"margin-left: 35px; border-style: solid; border-width: 1px; background-color:#F2F2F2; padding: 10px;\" >\n",
    "<pre id=62 onmousedown=\"window.clipline(62)\" onmouseup=\"window.reset(62)\">\n",
    "docker image list -a\n",
    "</pre>\n",
    "</div>"
   ]
  },
  {
   "cell_type": "markdown",
   "metadata": {},
   "source": [
    "Remember to exit out of Minikube when done. "
   ]
  },
  {
   "cell_type": "code",
   "execution_count": 27,
   "metadata": {
    "hide_input": true,
    "scrolled": true,
    "tags": [
     "refresh"
    ]
   },
   "outputs": [
    {
     "data": {
      "text/html": [
       "<div style=\"margin-left: 35px; border-style: solid; border-width: 1px; background-color:#F2F2F2; padding: 10px;\" >\n",
       "<pre id=62.1 onmousedown=\"window.clipline(62.1)\" onmouseup=\"window.reset(62.1)\">\n",
       "exit\n",
       "</pre>\n",
       "</div>"
      ],
      "text/plain": [
       "<IPython.core.display.HTML object>"
      ]
     },
     "metadata": {},
     "output_type": "display_data"
    }
   ],
   "source": [
    "%%html\n",
    "<div style=\"margin-left: 35px; border-style: solid; border-width: 1px; background-color:#F2F2F2; padding: 10px;\" >\n",
    "<pre id=62.1 onmousedown=\"window.clipline(62.1)\" onmouseup=\"window.reset(62.1)\">\n",
    "exit\n",
    "</pre>\n",
    "</div>"
   ]
  },
  {
   "cell_type": "markdown",
   "metadata": {},
   "source": [
    "### Restart Db2 Install (It's much faster!)\n",
    "Since we still have the Db2 images in the local Docker repository, and the persistent volume is still available, the recreation of Db2 pods is extremely quick."
   ]
  },
  {
   "cell_type": "code",
   "execution_count": 28,
   "metadata": {
    "hide_input": true,
    "scrolled": true,
    "tags": [
     "refresh"
    ]
   },
   "outputs": [
    {
     "data": {
      "text/html": [
       "<div style=\"margin-left: 35px; border-style: solid; border-width: 1px; background-color:#F2F2F2; padding: 10px;\" >\n",
       "<pre id=80 onmousedown=\"window.clipline(80)\" onmouseup=\"window.reset(80)\">\n",
       "cd ~/notebooks/extras/deployment\n",
       "./db2u-install --db-type db2oltp \\\n",
       "               --namespace default \\\n",
       "               --release-name db2u \\\n",
       "               --existing-pvc db2claim \\\n",
       "               --cpu-size 2 \\\n",
       "               --memory-size 3Gi\n",
       "</pre>\n",
       "</div>"
      ],
      "text/plain": [
       "<IPython.core.display.HTML object>"
      ]
     },
     "metadata": {},
     "output_type": "display_data"
    }
   ],
   "source": [
    "%%html\n",
    "<div style=\"margin-left: 35px; border-style: solid; border-width: 1px; background-color:#F2F2F2; padding: 10px;\" >\n",
    "<pre id=80 onmousedown=\"window.clipline(80)\" onmouseup=\"window.reset(80)\">\n",
    "cd ~/notebooks/extras/deployment\n",
    "./db2u-install --db-type db2oltp \\\n",
    "               --namespace default \\\n",
    "               --release-name db2u \\\n",
    "               --existing-pvc db2claim \\\n",
    "               --cpu-size 2 \\\n",
    "               --memory-size 3Gi\n",
    "</pre>\n",
    "</div>"
   ]
  },
  {
   "cell_type": "markdown",
   "metadata": {},
   "source": [
    "Check its progress to see how long this deployment takes."
   ]
  },
  {
   "cell_type": "code",
   "execution_count": 29,
   "metadata": {
    "hide_input": true,
    "scrolled": false,
    "tags": [
     "refresh"
    ]
   },
   "outputs": [
    {
     "data": {
      "text/html": [
       "<div style=\"margin-left: 35px; border-style: solid; border-width: 1px; background-color:#F2F2F2; padding: 10px;\" >\n",
       "<pre id=47.7 onmousedown=\"window.clipline(47.7)\" onmouseup=\"window.reset(47.7)\">\n",
       "kubectl get pods -w\n",
       "</pre>\n",
       "</div>"
      ],
      "text/plain": [
       "<IPython.core.display.HTML object>"
      ]
     },
     "metadata": {},
     "output_type": "display_data"
    }
   ],
   "source": [
    "%%html\n",
    "<div style=\"margin-left: 35px; border-style: solid; border-width: 1px; background-color:#F2F2F2; padding: 10px;\" >\n",
    "<pre id=47.7 onmousedown=\"window.clipline(47.7)\" onmouseup=\"window.reset(47.7)\">\n",
    "kubectl get pods -w\n",
    "</pre>\n",
    "</div>"
   ]
  },
  {
   "cell_type": "markdown",
   "metadata": {},
   "source": [
    "#### Credits: IBM 2020, Phil Downey [phil.downey1@ibm.com], George Baklarz [baklarz@ca.ibm.com]"
   ]
  },
  {
   "cell_type": "code",
   "execution_count": null,
   "metadata": {},
   "outputs": [],
   "source": []
  },
  {
   "cell_type": "code",
   "execution_count": null,
   "metadata": {},
   "outputs": [],
   "source": []
  },
  {
   "cell_type": "code",
   "execution_count": null,
   "metadata": {},
   "outputs": [],
   "source": []
  }
 ],
 "metadata": {
  "kernelspec": {
   "display_name": "Python 3",
   "language": "python",
   "name": "python3"
  },
  "language_info": {
   "codemirror_mode": {
    "name": "ipython",
    "version": 3
   },
   "file_extension": ".py",
   "mimetype": "text/x-python",
   "name": "python",
   "nbconvert_exporter": "python",
   "pygments_lexer": "ipython3",
   "version": "3.7.1"
  }
 },
 "nbformat": 4,
 "nbformat_minor": 2
}
